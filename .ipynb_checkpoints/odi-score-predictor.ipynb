{
 "cells": [
  {
   "cell_type": "code",
   "execution_count": 1,
   "id": "a8ba5be7-69b5-4b9e-9963-43733aab6968",
   "metadata": {},
   "outputs": [],
   "source": [
    "import pandas as pd\n",
    "import numpy as np"
   ]
  },
  {
   "cell_type": "code",
   "execution_count": 2,
   "id": "867c8245-f753-4e48-8eb7-2135441c607e",
   "metadata": {},
   "outputs": [],
   "source": [
    "odi_df = pd.read_csv('odi.csv')"
   ]
  },
  {
   "cell_type": "code",
   "execution_count": 3,
   "id": "7dc201c0-7c9d-4c18-8a36-8e6aa8de80e4",
   "metadata": {},
   "outputs": [
    {
     "data": {
      "text/html": [
       "<div>\n",
       "<style scoped>\n",
       "    .dataframe tbody tr th:only-of-type {\n",
       "        vertical-align: middle;\n",
       "    }\n",
       "\n",
       "    .dataframe tbody tr th {\n",
       "        vertical-align: top;\n",
       "    }\n",
       "\n",
       "    .dataframe thead th {\n",
       "        text-align: right;\n",
       "    }\n",
       "</style>\n",
       "<table border=\"1\" class=\"dataframe\">\n",
       "  <thead>\n",
       "    <tr style=\"text-align: right;\">\n",
       "      <th></th>\n",
       "      <th>mid</th>\n",
       "      <th>date</th>\n",
       "      <th>venue</th>\n",
       "      <th>bat_team</th>\n",
       "      <th>bowl_team</th>\n",
       "      <th>batsman</th>\n",
       "      <th>bowler</th>\n",
       "      <th>runs</th>\n",
       "      <th>wickets</th>\n",
       "      <th>overs</th>\n",
       "      <th>runs_last_5</th>\n",
       "      <th>wickets_last_5</th>\n",
       "      <th>striker</th>\n",
       "      <th>non-striker</th>\n",
       "      <th>total</th>\n",
       "    </tr>\n",
       "  </thead>\n",
       "  <tbody>\n",
       "    <tr>\n",
       "      <th>0</th>\n",
       "      <td>1</td>\n",
       "      <td>2006-06-13</td>\n",
       "      <td>Civil Service Cricket Club, Stormont</td>\n",
       "      <td>England</td>\n",
       "      <td>Ireland</td>\n",
       "      <td>ME Trescothick</td>\n",
       "      <td>DT Johnston</td>\n",
       "      <td>0</td>\n",
       "      <td>0</td>\n",
       "      <td>0.1</td>\n",
       "      <td>0</td>\n",
       "      <td>0</td>\n",
       "      <td>0</td>\n",
       "      <td>0</td>\n",
       "      <td>301</td>\n",
       "    </tr>\n",
       "    <tr>\n",
       "      <th>1</th>\n",
       "      <td>1</td>\n",
       "      <td>2006-06-13</td>\n",
       "      <td>Civil Service Cricket Club, Stormont</td>\n",
       "      <td>England</td>\n",
       "      <td>Ireland</td>\n",
       "      <td>ME Trescothick</td>\n",
       "      <td>DT Johnston</td>\n",
       "      <td>0</td>\n",
       "      <td>0</td>\n",
       "      <td>0.2</td>\n",
       "      <td>0</td>\n",
       "      <td>0</td>\n",
       "      <td>0</td>\n",
       "      <td>0</td>\n",
       "      <td>301</td>\n",
       "    </tr>\n",
       "    <tr>\n",
       "      <th>2</th>\n",
       "      <td>1</td>\n",
       "      <td>2006-06-13</td>\n",
       "      <td>Civil Service Cricket Club, Stormont</td>\n",
       "      <td>England</td>\n",
       "      <td>Ireland</td>\n",
       "      <td>ME Trescothick</td>\n",
       "      <td>DT Johnston</td>\n",
       "      <td>4</td>\n",
       "      <td>0</td>\n",
       "      <td>0.3</td>\n",
       "      <td>4</td>\n",
       "      <td>0</td>\n",
       "      <td>0</td>\n",
       "      <td>0</td>\n",
       "      <td>301</td>\n",
       "    </tr>\n",
       "    <tr>\n",
       "      <th>3</th>\n",
       "      <td>1</td>\n",
       "      <td>2006-06-13</td>\n",
       "      <td>Civil Service Cricket Club, Stormont</td>\n",
       "      <td>England</td>\n",
       "      <td>Ireland</td>\n",
       "      <td>ME Trescothick</td>\n",
       "      <td>DT Johnston</td>\n",
       "      <td>6</td>\n",
       "      <td>0</td>\n",
       "      <td>0.4</td>\n",
       "      <td>6</td>\n",
       "      <td>0</td>\n",
       "      <td>0</td>\n",
       "      <td>0</td>\n",
       "      <td>301</td>\n",
       "    </tr>\n",
       "    <tr>\n",
       "      <th>4</th>\n",
       "      <td>1</td>\n",
       "      <td>2006-06-13</td>\n",
       "      <td>Civil Service Cricket Club, Stormont</td>\n",
       "      <td>England</td>\n",
       "      <td>Ireland</td>\n",
       "      <td>ME Trescothick</td>\n",
       "      <td>DT Johnston</td>\n",
       "      <td>6</td>\n",
       "      <td>0</td>\n",
       "      <td>0.5</td>\n",
       "      <td>6</td>\n",
       "      <td>0</td>\n",
       "      <td>0</td>\n",
       "      <td>0</td>\n",
       "      <td>301</td>\n",
       "    </tr>\n",
       "  </tbody>\n",
       "</table>\n",
       "</div>"
      ],
      "text/plain": [
       "   mid        date                                 venue bat_team bowl_team  \\\n",
       "0    1  2006-06-13  Civil Service Cricket Club, Stormont  England   Ireland   \n",
       "1    1  2006-06-13  Civil Service Cricket Club, Stormont  England   Ireland   \n",
       "2    1  2006-06-13  Civil Service Cricket Club, Stormont  England   Ireland   \n",
       "3    1  2006-06-13  Civil Service Cricket Club, Stormont  England   Ireland   \n",
       "4    1  2006-06-13  Civil Service Cricket Club, Stormont  England   Ireland   \n",
       "\n",
       "          batsman       bowler  runs  wickets  overs  runs_last_5  \\\n",
       "0  ME Trescothick  DT Johnston     0        0    0.1            0   \n",
       "1  ME Trescothick  DT Johnston     0        0    0.2            0   \n",
       "2  ME Trescothick  DT Johnston     4        0    0.3            4   \n",
       "3  ME Trescothick  DT Johnston     6        0    0.4            6   \n",
       "4  ME Trescothick  DT Johnston     6        0    0.5            6   \n",
       "\n",
       "   wickets_last_5  striker  non-striker  total  \n",
       "0               0        0            0    301  \n",
       "1               0        0            0    301  \n",
       "2               0        0            0    301  \n",
       "3               0        0            0    301  \n",
       "4               0        0            0    301  "
      ]
     },
     "execution_count": 3,
     "metadata": {},
     "output_type": "execute_result"
    }
   ],
   "source": [
    "odi_df.head()"
   ]
  },
  {
   "cell_type": "code",
   "execution_count": 4,
   "id": "b0813e31-b0a7-4124-a40d-5f654ed0be43",
   "metadata": {},
   "outputs": [
    {
     "data": {
      "text/plain": [
       "(350899, 15)"
      ]
     },
     "execution_count": 4,
     "metadata": {},
     "output_type": "execute_result"
    }
   ],
   "source": [
    "odi_df.shape"
   ]
  },
  {
   "cell_type": "code",
   "execution_count": 5,
   "id": "36ac8bb5-86b8-43b1-b3a1-ccb6fd0fa6c5",
   "metadata": {},
   "outputs": [
    {
     "data": {
      "text/plain": [
       "(136,)"
      ]
     },
     "execution_count": 5,
     "metadata": {},
     "output_type": "execute_result"
    }
   ],
   "source": [
    "odi_df['venue'].unique().shape"
   ]
  },
  {
   "cell_type": "code",
   "execution_count": 6,
   "id": "3c03aac6-a07d-4508-932d-1a319c10e549",
   "metadata": {},
   "outputs": [],
   "source": [
    "# --- Data Cleaning ---\n",
    "# Removing unwanted columns\n",
    "columns_to_remove = ['mid', 'date', 'batsman', 'bowler', 'striker', 'non-striker']\n",
    "odi_df.drop(labels=columns_to_remove, axis=1, inplace=True)"
   ]
  },
  {
   "cell_type": "code",
   "execution_count": 7,
   "id": "45efc383-a44e-47b8-9087-91e80deb514b",
   "metadata": {},
   "outputs": [
    {
     "data": {
      "text/html": [
       "<div>\n",
       "<style scoped>\n",
       "    .dataframe tbody tr th:only-of-type {\n",
       "        vertical-align: middle;\n",
       "    }\n",
       "\n",
       "    .dataframe tbody tr th {\n",
       "        vertical-align: top;\n",
       "    }\n",
       "\n",
       "    .dataframe thead th {\n",
       "        text-align: right;\n",
       "    }\n",
       "</style>\n",
       "<table border=\"1\" class=\"dataframe\">\n",
       "  <thead>\n",
       "    <tr style=\"text-align: right;\">\n",
       "      <th></th>\n",
       "      <th>venue</th>\n",
       "      <th>bat_team</th>\n",
       "      <th>bowl_team</th>\n",
       "      <th>runs</th>\n",
       "      <th>wickets</th>\n",
       "      <th>overs</th>\n",
       "      <th>runs_last_5</th>\n",
       "      <th>wickets_last_5</th>\n",
       "      <th>total</th>\n",
       "    </tr>\n",
       "  </thead>\n",
       "  <tbody>\n",
       "    <tr>\n",
       "      <th>0</th>\n",
       "      <td>Civil Service Cricket Club, Stormont</td>\n",
       "      <td>England</td>\n",
       "      <td>Ireland</td>\n",
       "      <td>0</td>\n",
       "      <td>0</td>\n",
       "      <td>0.1</td>\n",
       "      <td>0</td>\n",
       "      <td>0</td>\n",
       "      <td>301</td>\n",
       "    </tr>\n",
       "    <tr>\n",
       "      <th>1</th>\n",
       "      <td>Civil Service Cricket Club, Stormont</td>\n",
       "      <td>England</td>\n",
       "      <td>Ireland</td>\n",
       "      <td>0</td>\n",
       "      <td>0</td>\n",
       "      <td>0.2</td>\n",
       "      <td>0</td>\n",
       "      <td>0</td>\n",
       "      <td>301</td>\n",
       "    </tr>\n",
       "    <tr>\n",
       "      <th>2</th>\n",
       "      <td>Civil Service Cricket Club, Stormont</td>\n",
       "      <td>England</td>\n",
       "      <td>Ireland</td>\n",
       "      <td>4</td>\n",
       "      <td>0</td>\n",
       "      <td>0.3</td>\n",
       "      <td>4</td>\n",
       "      <td>0</td>\n",
       "      <td>301</td>\n",
       "    </tr>\n",
       "    <tr>\n",
       "      <th>3</th>\n",
       "      <td>Civil Service Cricket Club, Stormont</td>\n",
       "      <td>England</td>\n",
       "      <td>Ireland</td>\n",
       "      <td>6</td>\n",
       "      <td>0</td>\n",
       "      <td>0.4</td>\n",
       "      <td>6</td>\n",
       "      <td>0</td>\n",
       "      <td>301</td>\n",
       "    </tr>\n",
       "    <tr>\n",
       "      <th>4</th>\n",
       "      <td>Civil Service Cricket Club, Stormont</td>\n",
       "      <td>England</td>\n",
       "      <td>Ireland</td>\n",
       "      <td>6</td>\n",
       "      <td>0</td>\n",
       "      <td>0.5</td>\n",
       "      <td>6</td>\n",
       "      <td>0</td>\n",
       "      <td>301</td>\n",
       "    </tr>\n",
       "  </tbody>\n",
       "</table>\n",
       "</div>"
      ],
      "text/plain": [
       "                                  venue bat_team bowl_team  runs  wickets  \\\n",
       "0  Civil Service Cricket Club, Stormont  England   Ireland     0        0   \n",
       "1  Civil Service Cricket Club, Stormont  England   Ireland     0        0   \n",
       "2  Civil Service Cricket Club, Stormont  England   Ireland     4        0   \n",
       "3  Civil Service Cricket Club, Stormont  England   Ireland     6        0   \n",
       "4  Civil Service Cricket Club, Stormont  England   Ireland     6        0   \n",
       "\n",
       "   overs  runs_last_5  wickets_last_5  total  \n",
       "0    0.1            0               0    301  \n",
       "1    0.2            0               0    301  \n",
       "2    0.3            4               0    301  \n",
       "3    0.4            6               0    301  \n",
       "4    0.5            6               0    301  "
      ]
     },
     "execution_count": 7,
     "metadata": {},
     "output_type": "execute_result"
    }
   ],
   "source": [
    "odi_df.head()"
   ]
  },
  {
   "cell_type": "code",
   "execution_count": 8,
   "id": "61e1930d-eb2d-492d-9180-0f25e8b30449",
   "metadata": {},
   "outputs": [
    {
     "data": {
      "text/plain": [
       "array(['England', 'Pakistan', 'Sri Lanka', 'Australia', 'South Africa',\n",
       "       'New Zealand', 'Bangladesh', 'West Indies', 'India', 'Zimbabwe',\n",
       "       'Ireland', 'Scotland', 'Kenya', 'Bermuda', 'Netherlands', 'Canada',\n",
       "       'Asia XI', 'Afghanistan', 'United Arab Emirates', 'Hong Kong',\n",
       "       'Papua New Guinea'], dtype=object)"
      ]
     },
     "execution_count": 8,
     "metadata": {},
     "output_type": "execute_result"
    }
   ],
   "source": [
    "odi_df[\"bat_team\"].unique()"
   ]
  },
  {
   "cell_type": "code",
   "execution_count": 9,
   "id": "2b288dbf-52e5-44ae-8c6b-e2fb4a100c82",
   "metadata": {},
   "outputs": [],
   "source": [
    "odi_teams = ['England', 'Pakistan', 'Sri Lanka', 'Australia', 'South Africa',\n",
    "       'New Zealand', 'Bangladesh', 'West Indies', 'India', 'Afghanistan']"
   ]
  },
  {
   "cell_type": "code",
   "execution_count": 10,
   "id": "47973f24-bfca-4b1a-92d1-db994a4341b1",
   "metadata": {},
   "outputs": [],
   "source": [
    "odi_df = odi_df[odi_df['bat_team'].isin(odi_teams)]\n",
    "odi_df = odi_df[odi_df['bowl_team'].isin(odi_teams)]"
   ]
  },
  {
   "cell_type": "code",
   "execution_count": 11,
   "id": "a4b47214-0b03-46bc-bcf3-378fc8862374",
   "metadata": {},
   "outputs": [
    {
     "data": {
      "text/plain": [
       "(263661, 9)"
      ]
     },
     "execution_count": 11,
     "metadata": {},
     "output_type": "execute_result"
    }
   ],
   "source": [
    "odi_df.shape"
   ]
  },
  {
   "cell_type": "code",
   "execution_count": 30,
   "id": "ad849747-7edf-42fa-91cb-cda21d3b7113",
   "metadata": {},
   "outputs": [
    {
     "data": {
      "text/plain": [
       "array(['The Rose Bowl', 'Trent Bridge', 'Edgbaston', \"Lord's\",\n",
       "       'Kennington Oval', 'Riverside Ground', 'Old Trafford',\n",
       "       'Headingley', 'Brisbane Cricket Ground, Woolloongabba',\n",
       "       'Docklands Stadium', 'Sydney Cricket Ground', 'Adelaide Oval',\n",
       "       'Western Australia Cricket Association Ground', 'Bellerive Oval',\n",
       "       'Jade Stadium', 'Westpac Stadium', 'Rawalpindi Cricket Stadium',\n",
       "       'Gaddafi Stadium', 'Multan Cricket Stadium', 'National Stadium',\n",
       "       'Shaheed Chandu Stadium', 'Chittagong Divisional Stadium',\n",
       "       'Narayanganj Osmani Stadium', 'Queenstown Events Centre',\n",
       "       'McLean Park', 'Eden Park', 'Feroz Shah Kotla',\n",
       "       'Nahar Singh Stadium', 'Nehru Stadium, Fatorda', 'Keenan Stadium',\n",
       "       'Maharani Usharaje Trust Cricket Ground', 'Newlands',\n",
       "       \"St George's Park\", 'Kingsmead', 'New Wanderers Stadium',\n",
       "       'R Premadasa Stadium', 'Sinhalese Sports Club Ground',\n",
       "       'Sabina Park, Kingston', 'Warner Park, Basseterre',\n",
       "       \"Queen's Park Oval, Port of Spain\", 'Sheikh Zayed Stadium',\n",
       "       'Beausejour Stadium, Gros Islet',\n",
       "       'Sir Vivian Richards Stadium, North Sound', 'Providence Stadium',\n",
       "       \"National Cricket Stadium, St George's\",\n",
       "       'Kensington Oval, Bridgetown', 'SuperSport Park',\n",
       "       'Melbourne Cricket Ground',\n",
       "       'Punjab Cricket Association Stadium, Mohali',\n",
       "       'Sawai Mansingh Stadium', 'Brabourne Stadium',\n",
       "       'Sardar Patel Stadium, Motera', 'Seddon Park',\n",
       "       'Kinrara Academy Oval', 'Iqbal Stadium', 'County Ground',\n",
       "       'MA Chidambaram Stadium, Chepauk',\n",
       "       'Indian Petrochemicals Corporation Limited Sports Complex Ground',\n",
       "       'Madhavrao Scindia Cricket Ground',\n",
       "       'Andhra Cricket Association-Visakhapatnam District Cricket Association Stadium',\n",
       "       'Shere Bangla National Stadium',\n",
       "       'Rangiri Dambulla International Stadium',\n",
       "       'Civil Service Cricket Club, Stormont', 'P Saravanamuttu Stadium',\n",
       "       'Nehru Stadium', 'Rajiv Gandhi International Stadium, Uppal',\n",
       "       'Sector 16 Stadium', 'Reliance Stadium',\n",
       "       'Vidarbha Cricket Association Ground', 'Wankhede Stadium',\n",
       "       'Green Park', 'Captain Roop Singh Stadium',\n",
       "       'Arnos Vale Ground, Kingstown', 'Marrara Cricket Ground',\n",
       "       'Senwes Park', 'Barabati Stadium', 'AMI Stadium',\n",
       "       'Dubai Sports City Cricket Stadium', 'Windsor Park, Roseau',\n",
       "       'Vidarbha Cricket Association Stadium, Jamtha', 'University Oval',\n",
       "       'Sophia Gardens', 'Zohur Ahmed Chowdhury Stadium', 'Eden Gardens',\n",
       "       'M Chinnaswamy Stadium', 'Pallekele International Cricket Stadium',\n",
       "       'Zahur Ahmed Chowdhury Stadium', 'Queens Sports Club',\n",
       "       'Harare Sports Club', 'Dubai International Cricket Stadium',\n",
       "       'Dr. Y.S. Rajasekhara Reddy ACA-VDCA Cricket Stadium',\n",
       "       'Boland Park', 'Buffalo Park', 'De Beers Diamond Oval',\n",
       "       'Mahinda Rajapaksa International Cricket Stadium, Sooriyawewa',\n",
       "       'Sharjah Cricket Stadium', 'Holkar Cricket Stadium',\n",
       "       'Saurashtra Cricket Association Stadium',\n",
       "       'JSCA International Stadium Complex',\n",
       "       'Himachal Pradesh Cricket Association Stadium', 'Chevrolet Park',\n",
       "       'Willowmoore Park', 'Sharjah Cricket Association Stadium',\n",
       "       'Manuka Oval', 'Sheikh Abu Naser Stadium',\n",
       "       'Maharashtra Cricket Association Stadium', 'Hagley Oval',\n",
       "       'Khan Shaheb Osman Ali Stadium', 'Bay Oval', 'Saxton Oval',\n",
       "       'Basin Reserve', 'Clontarf Cricket Club Ground',\n",
       "       'Darren Sammy National Cricket Stadium, Gros Islet'], dtype=object)"
      ]
     },
     "execution_count": 30,
     "metadata": {},
     "output_type": "execute_result"
    }
   ],
   "source": [
    "odi_df['venue'].unique()"
   ]
  },
  {
   "cell_type": "code",
   "execution_count": 13,
   "id": "9c5340af-d989-4f86-8b32-06e60c6bc64b",
   "metadata": {},
   "outputs": [
    {
     "name": "stdout",
     "output_type": "stream",
     "text": [
      "['England' 'Pakistan' 'Sri Lanka' 'Australia' 'South Africa' 'New Zealand'\n",
      " 'Bangladesh' 'West Indies' 'India' 'Afghanistan']\n",
      "['Pakistan' 'England' 'Sri Lanka' 'South Africa' 'Australia' 'New Zealand'\n",
      " 'India' 'West Indies' 'Bangladesh' 'Afghanistan']\n"
     ]
    }
   ],
   "source": [
    "print(odi_df['bat_team'].unique())\n",
    "print(odi_df['bowl_team'].unique())"
   ]
  },
  {
   "cell_type": "code",
   "execution_count": 14,
   "id": "409fb43d-33ba-4b6f-879e-b78454d93a9c",
   "metadata": {},
   "outputs": [],
   "source": [
    "# Removing the first 5 overs data in every match\n",
    "odi_df = odi_df[odi_df['overs']>=5.0]"
   ]
  },
  {
   "cell_type": "code",
   "execution_count": 15,
   "id": "67f5f34a-8a5f-4221-a336-4596ae9dd090",
   "metadata": {},
   "outputs": [
    {
     "data": {
      "text/html": [
       "<div>\n",
       "<style scoped>\n",
       "    .dataframe tbody tr th:only-of-type {\n",
       "        vertical-align: middle;\n",
       "    }\n",
       "\n",
       "    .dataframe tbody tr th {\n",
       "        vertical-align: top;\n",
       "    }\n",
       "\n",
       "    .dataframe thead th {\n",
       "        text-align: right;\n",
       "    }\n",
       "</style>\n",
       "<table border=\"1\" class=\"dataframe\">\n",
       "  <thead>\n",
       "    <tr style=\"text-align: right;\">\n",
       "      <th></th>\n",
       "      <th>venue</th>\n",
       "      <th>bat_team</th>\n",
       "      <th>bowl_team</th>\n",
       "      <th>runs</th>\n",
       "      <th>wickets</th>\n",
       "      <th>overs</th>\n",
       "      <th>runs_last_5</th>\n",
       "      <th>wickets_last_5</th>\n",
       "      <th>total</th>\n",
       "    </tr>\n",
       "  </thead>\n",
       "  <tbody>\n",
       "    <tr>\n",
       "      <th>347</th>\n",
       "      <td>The Rose Bowl</td>\n",
       "      <td>England</td>\n",
       "      <td>Pakistan</td>\n",
       "      <td>29</td>\n",
       "      <td>1</td>\n",
       "      <td>5.1</td>\n",
       "      <td>28</td>\n",
       "      <td>0</td>\n",
       "      <td>271</td>\n",
       "    </tr>\n",
       "    <tr>\n",
       "      <th>348</th>\n",
       "      <td>The Rose Bowl</td>\n",
       "      <td>England</td>\n",
       "      <td>Pakistan</td>\n",
       "      <td>30</td>\n",
       "      <td>1</td>\n",
       "      <td>5.2</td>\n",
       "      <td>25</td>\n",
       "      <td>0</td>\n",
       "      <td>271</td>\n",
       "    </tr>\n",
       "    <tr>\n",
       "      <th>349</th>\n",
       "      <td>The Rose Bowl</td>\n",
       "      <td>England</td>\n",
       "      <td>Pakistan</td>\n",
       "      <td>30</td>\n",
       "      <td>1</td>\n",
       "      <td>5.3</td>\n",
       "      <td>24</td>\n",
       "      <td>0</td>\n",
       "      <td>271</td>\n",
       "    </tr>\n",
       "    <tr>\n",
       "      <th>350</th>\n",
       "      <td>The Rose Bowl</td>\n",
       "      <td>England</td>\n",
       "      <td>Pakistan</td>\n",
       "      <td>34</td>\n",
       "      <td>1</td>\n",
       "      <td>5.4</td>\n",
       "      <td>28</td>\n",
       "      <td>0</td>\n",
       "      <td>271</td>\n",
       "    </tr>\n",
       "    <tr>\n",
       "      <th>351</th>\n",
       "      <td>The Rose Bowl</td>\n",
       "      <td>England</td>\n",
       "      <td>Pakistan</td>\n",
       "      <td>35</td>\n",
       "      <td>1</td>\n",
       "      <td>5.5</td>\n",
       "      <td>29</td>\n",
       "      <td>0</td>\n",
       "      <td>271</td>\n",
       "    </tr>\n",
       "  </tbody>\n",
       "</table>\n",
       "</div>"
      ],
      "text/plain": [
       "             venue bat_team bowl_team  runs  wickets  overs  runs_last_5  \\\n",
       "347  The Rose Bowl  England  Pakistan    29        1    5.1           28   \n",
       "348  The Rose Bowl  England  Pakistan    30        1    5.2           25   \n",
       "349  The Rose Bowl  England  Pakistan    30        1    5.3           24   \n",
       "350  The Rose Bowl  England  Pakistan    34        1    5.4           28   \n",
       "351  The Rose Bowl  England  Pakistan    35        1    5.5           29   \n",
       "\n",
       "     wickets_last_5  total  \n",
       "347               0    271  \n",
       "348               0    271  \n",
       "349               0    271  \n",
       "350               0    271  \n",
       "351               0    271  "
      ]
     },
     "execution_count": 15,
     "metadata": {},
     "output_type": "execute_result"
    }
   ],
   "source": [
    "odi_df.head()"
   ]
  },
  {
   "cell_type": "code",
   "execution_count": 16,
   "id": "df60a3b9-7dc1-42fa-a23a-3e03bd3e0bd7",
   "metadata": {},
   "outputs": [],
   "source": [
    "X = odi_df.iloc[:,:-1]\n",
    "y = odi_df.iloc[:,-1]\n",
    "from sklearn.model_selection import train_test_split\n",
    "X_train,X_test,y_train,y_test = train_test_split(X,y,test_size=0.2,random_state=1)"
   ]
  },
  {
   "cell_type": "code",
   "execution_count": 17,
   "id": "999953e0-d740-44fc-997d-0b55b271132a",
   "metadata": {},
   "outputs": [
    {
     "data": {
      "text/html": [
       "<div>\n",
       "<style scoped>\n",
       "    .dataframe tbody tr th:only-of-type {\n",
       "        vertical-align: middle;\n",
       "    }\n",
       "\n",
       "    .dataframe tbody tr th {\n",
       "        vertical-align: top;\n",
       "    }\n",
       "\n",
       "    .dataframe thead th {\n",
       "        text-align: right;\n",
       "    }\n",
       "</style>\n",
       "<table border=\"1\" class=\"dataframe\">\n",
       "  <thead>\n",
       "    <tr style=\"text-align: right;\">\n",
       "      <th></th>\n",
       "      <th>venue</th>\n",
       "      <th>bat_team</th>\n",
       "      <th>bowl_team</th>\n",
       "      <th>runs</th>\n",
       "      <th>wickets</th>\n",
       "      <th>overs</th>\n",
       "      <th>runs_last_5</th>\n",
       "      <th>wickets_last_5</th>\n",
       "      <th>total</th>\n",
       "    </tr>\n",
       "  </thead>\n",
       "  <tbody>\n",
       "    <tr>\n",
       "      <th>347</th>\n",
       "      <td>The Rose Bowl</td>\n",
       "      <td>England</td>\n",
       "      <td>Pakistan</td>\n",
       "      <td>29</td>\n",
       "      <td>1</td>\n",
       "      <td>5.1</td>\n",
       "      <td>28</td>\n",
       "      <td>0</td>\n",
       "      <td>271</td>\n",
       "    </tr>\n",
       "    <tr>\n",
       "      <th>348</th>\n",
       "      <td>The Rose Bowl</td>\n",
       "      <td>England</td>\n",
       "      <td>Pakistan</td>\n",
       "      <td>30</td>\n",
       "      <td>1</td>\n",
       "      <td>5.2</td>\n",
       "      <td>25</td>\n",
       "      <td>0</td>\n",
       "      <td>271</td>\n",
       "    </tr>\n",
       "    <tr>\n",
       "      <th>349</th>\n",
       "      <td>The Rose Bowl</td>\n",
       "      <td>England</td>\n",
       "      <td>Pakistan</td>\n",
       "      <td>30</td>\n",
       "      <td>1</td>\n",
       "      <td>5.3</td>\n",
       "      <td>24</td>\n",
       "      <td>0</td>\n",
       "      <td>271</td>\n",
       "    </tr>\n",
       "    <tr>\n",
       "      <th>350</th>\n",
       "      <td>The Rose Bowl</td>\n",
       "      <td>England</td>\n",
       "      <td>Pakistan</td>\n",
       "      <td>34</td>\n",
       "      <td>1</td>\n",
       "      <td>5.4</td>\n",
       "      <td>28</td>\n",
       "      <td>0</td>\n",
       "      <td>271</td>\n",
       "    </tr>\n",
       "    <tr>\n",
       "      <th>351</th>\n",
       "      <td>The Rose Bowl</td>\n",
       "      <td>England</td>\n",
       "      <td>Pakistan</td>\n",
       "      <td>35</td>\n",
       "      <td>1</td>\n",
       "      <td>5.5</td>\n",
       "      <td>29</td>\n",
       "      <td>0</td>\n",
       "      <td>271</td>\n",
       "    </tr>\n",
       "  </tbody>\n",
       "</table>\n",
       "</div>"
      ],
      "text/plain": [
       "             venue bat_team bowl_team  runs  wickets  overs  runs_last_5  \\\n",
       "347  The Rose Bowl  England  Pakistan    29        1    5.1           28   \n",
       "348  The Rose Bowl  England  Pakistan    30        1    5.2           25   \n",
       "349  The Rose Bowl  England  Pakistan    30        1    5.3           24   \n",
       "350  The Rose Bowl  England  Pakistan    34        1    5.4           28   \n",
       "351  The Rose Bowl  England  Pakistan    35        1    5.5           29   \n",
       "\n",
       "     wickets_last_5  total  \n",
       "347               0    271  \n",
       "348               0    271  \n",
       "349               0    271  \n",
       "350               0    271  \n",
       "351               0    271  "
      ]
     },
     "execution_count": 17,
     "metadata": {},
     "output_type": "execute_result"
    }
   ],
   "source": [
    "odi_df.head()"
   ]
  },
  {
   "cell_type": "code",
   "execution_count": 18,
   "id": "2ce6ce03-3693-4aca-acc2-ac8f6f5cff6d",
   "metadata": {},
   "outputs": [
    {
     "data": {
      "text/html": [
       "<div>\n",
       "<style scoped>\n",
       "    .dataframe tbody tr th:only-of-type {\n",
       "        vertical-align: middle;\n",
       "    }\n",
       "\n",
       "    .dataframe tbody tr th {\n",
       "        vertical-align: top;\n",
       "    }\n",
       "\n",
       "    .dataframe thead th {\n",
       "        text-align: right;\n",
       "    }\n",
       "</style>\n",
       "<table border=\"1\" class=\"dataframe\">\n",
       "  <thead>\n",
       "    <tr style=\"text-align: right;\">\n",
       "      <th></th>\n",
       "      <th>venue</th>\n",
       "      <th>bat_team</th>\n",
       "      <th>bowl_team</th>\n",
       "      <th>runs</th>\n",
       "      <th>wickets</th>\n",
       "      <th>overs</th>\n",
       "      <th>runs_last_5</th>\n",
       "      <th>wickets_last_5</th>\n",
       "    </tr>\n",
       "  </thead>\n",
       "  <tbody>\n",
       "    <tr>\n",
       "      <th>30269</th>\n",
       "      <td>National Cricket Stadium, St George's</td>\n",
       "      <td>Australia</td>\n",
       "      <td>New Zealand</td>\n",
       "      <td>342</td>\n",
       "      <td>6</td>\n",
       "      <td>49.5</td>\n",
       "      <td>60</td>\n",
       "      <td>1</td>\n",
       "    </tr>\n",
       "    <tr>\n",
       "      <th>320435</th>\n",
       "      <td>Rangiri Dambulla International Stadium</td>\n",
       "      <td>Sri Lanka</td>\n",
       "      <td>Australia</td>\n",
       "      <td>144</td>\n",
       "      <td>6</td>\n",
       "      <td>34.5</td>\n",
       "      <td>20</td>\n",
       "      <td>2</td>\n",
       "    </tr>\n",
       "    <tr>\n",
       "      <th>73353</th>\n",
       "      <td>Iqbal Stadium</td>\n",
       "      <td>South Africa</td>\n",
       "      <td>Pakistan</td>\n",
       "      <td>191</td>\n",
       "      <td>8</td>\n",
       "      <td>47.5</td>\n",
       "      <td>26</td>\n",
       "      <td>3</td>\n",
       "    </tr>\n",
       "    <tr>\n",
       "      <th>55824</th>\n",
       "      <td>Andhra Cricket Association-Visakhapatnam Distr...</td>\n",
       "      <td>Sri Lanka</td>\n",
       "      <td>India</td>\n",
       "      <td>124</td>\n",
       "      <td>5</td>\n",
       "      <td>26.3</td>\n",
       "      <td>34</td>\n",
       "      <td>1</td>\n",
       "    </tr>\n",
       "    <tr>\n",
       "      <th>139715</th>\n",
       "      <td>Pallekele International Cricket Stadium</td>\n",
       "      <td>New Zealand</td>\n",
       "      <td>Pakistan</td>\n",
       "      <td>163</td>\n",
       "      <td>4</td>\n",
       "      <td>39.6</td>\n",
       "      <td>20</td>\n",
       "      <td>0</td>\n",
       "    </tr>\n",
       "    <tr>\n",
       "      <th>...</th>\n",
       "      <td>...</td>\n",
       "      <td>...</td>\n",
       "      <td>...</td>\n",
       "      <td>...</td>\n",
       "      <td>...</td>\n",
       "      <td>...</td>\n",
       "      <td>...</td>\n",
       "      <td>...</td>\n",
       "    </tr>\n",
       "    <tr>\n",
       "      <th>336501</th>\n",
       "      <td>Headingley</td>\n",
       "      <td>England</td>\n",
       "      <td>South Africa</td>\n",
       "      <td>264</td>\n",
       "      <td>5</td>\n",
       "      <td>43.4</td>\n",
       "      <td>38</td>\n",
       "      <td>0</td>\n",
       "    </tr>\n",
       "    <tr>\n",
       "      <th>6120</th>\n",
       "      <td>Bellerive Oval</td>\n",
       "      <td>Sri Lanka</td>\n",
       "      <td>South Africa</td>\n",
       "      <td>181</td>\n",
       "      <td>2</td>\n",
       "      <td>36.3</td>\n",
       "      <td>24</td>\n",
       "      <td>1</td>\n",
       "    </tr>\n",
       "    <tr>\n",
       "      <th>304609</th>\n",
       "      <td>Sophia Gardens</td>\n",
       "      <td>England</td>\n",
       "      <td>Sri Lanka</td>\n",
       "      <td>151</td>\n",
       "      <td>3</td>\n",
       "      <td>27.4</td>\n",
       "      <td>26</td>\n",
       "      <td>1</td>\n",
       "    </tr>\n",
       "    <tr>\n",
       "      <th>337394</th>\n",
       "      <td>Clontarf Cricket Club Ground</td>\n",
       "      <td>Bangladesh</td>\n",
       "      <td>New Zealand</td>\n",
       "      <td>34</td>\n",
       "      <td>0</td>\n",
       "      <td>7.3</td>\n",
       "      <td>26</td>\n",
       "      <td>0</td>\n",
       "    </tr>\n",
       "    <tr>\n",
       "      <th>184954</th>\n",
       "      <td>Feroz Shah Kotla</td>\n",
       "      <td>England</td>\n",
       "      <td>India</td>\n",
       "      <td>153</td>\n",
       "      <td>5</td>\n",
       "      <td>34.2</td>\n",
       "      <td>16</td>\n",
       "      <td>0</td>\n",
       "    </tr>\n",
       "  </tbody>\n",
       "</table>\n",
       "<p>188671 rows × 8 columns</p>\n",
       "</div>"
      ],
      "text/plain": [
       "                                                    venue      bat_team  \\\n",
       "30269               National Cricket Stadium, St George's     Australia   \n",
       "320435             Rangiri Dambulla International Stadium     Sri Lanka   \n",
       "73353                                       Iqbal Stadium  South Africa   \n",
       "55824   Andhra Cricket Association-Visakhapatnam Distr...     Sri Lanka   \n",
       "139715            Pallekele International Cricket Stadium   New Zealand   \n",
       "...                                                   ...           ...   \n",
       "336501                                         Headingley       England   \n",
       "6120                                       Bellerive Oval     Sri Lanka   \n",
       "304609                                     Sophia Gardens       England   \n",
       "337394                       Clontarf Cricket Club Ground    Bangladesh   \n",
       "184954                                   Feroz Shah Kotla       England   \n",
       "\n",
       "           bowl_team  runs  wickets  overs  runs_last_5  wickets_last_5  \n",
       "30269    New Zealand   342        6   49.5           60               1  \n",
       "320435     Australia   144        6   34.5           20               2  \n",
       "73353       Pakistan   191        8   47.5           26               3  \n",
       "55824          India   124        5   26.3           34               1  \n",
       "139715      Pakistan   163        4   39.6           20               0  \n",
       "...              ...   ...      ...    ...          ...             ...  \n",
       "336501  South Africa   264        5   43.4           38               0  \n",
       "6120    South Africa   181        2   36.3           24               1  \n",
       "304609     Sri Lanka   151        3   27.4           26               1  \n",
       "337394   New Zealand    34        0    7.3           26               0  \n",
       "184954         India   153        5   34.2           16               0  \n",
       "\n",
       "[188671 rows x 8 columns]"
      ]
     },
     "execution_count": 18,
     "metadata": {},
     "output_type": "execute_result"
    }
   ],
   "source": [
    "X_train"
   ]
  },
  {
   "cell_type": "code",
   "execution_count": 19,
   "id": "a61f8177-4924-4b00-b557-ce7e220e491c",
   "metadata": {},
   "outputs": [],
   "source": [
    "from sklearn.preprocessing import OneHotEncoder\n",
    "from sklearn.compose import make_column_transformer\n",
    "from sklearn.pipeline import make_pipeline\n",
    "from sklearn.metrics import r2_score"
   ]
  },
  {
   "cell_type": "code",
   "execution_count": 20,
   "id": "d9f0f469-6f85-4ebf-905b-23bbf1ae87f6",
   "metadata": {},
   "outputs": [],
   "source": [
    "from sklearn.linear_model import LinearRegression"
   ]
  },
  {
   "cell_type": "code",
   "execution_count": 21,
   "id": "1d9eb277-1a71-4ab7-b985-31c2fbeebaa5",
   "metadata": {},
   "outputs": [
    {
     "data": {
      "text/html": [
       "<style>#sk-container-id-1 {color: black;}#sk-container-id-1 pre{padding: 0;}#sk-container-id-1 div.sk-toggleable {background-color: white;}#sk-container-id-1 label.sk-toggleable__label {cursor: pointer;display: block;width: 100%;margin-bottom: 0;padding: 0.3em;box-sizing: border-box;text-align: center;}#sk-container-id-1 label.sk-toggleable__label-arrow:before {content: \"▸\";float: left;margin-right: 0.25em;color: #696969;}#sk-container-id-1 label.sk-toggleable__label-arrow:hover:before {color: black;}#sk-container-id-1 div.sk-estimator:hover label.sk-toggleable__label-arrow:before {color: black;}#sk-container-id-1 div.sk-toggleable__content {max-height: 0;max-width: 0;overflow: hidden;text-align: left;background-color: #f0f8ff;}#sk-container-id-1 div.sk-toggleable__content pre {margin: 0.2em;color: black;border-radius: 0.25em;background-color: #f0f8ff;}#sk-container-id-1 input.sk-toggleable__control:checked~div.sk-toggleable__content {max-height: 200px;max-width: 100%;overflow: auto;}#sk-container-id-1 input.sk-toggleable__control:checked~label.sk-toggleable__label-arrow:before {content: \"▾\";}#sk-container-id-1 div.sk-estimator input.sk-toggleable__control:checked~label.sk-toggleable__label {background-color: #d4ebff;}#sk-container-id-1 div.sk-label input.sk-toggleable__control:checked~label.sk-toggleable__label {background-color: #d4ebff;}#sk-container-id-1 input.sk-hidden--visually {border: 0;clip: rect(1px 1px 1px 1px);clip: rect(1px, 1px, 1px, 1px);height: 1px;margin: -1px;overflow: hidden;padding: 0;position: absolute;width: 1px;}#sk-container-id-1 div.sk-estimator {font-family: monospace;background-color: #f0f8ff;border: 1px dotted black;border-radius: 0.25em;box-sizing: border-box;margin-bottom: 0.5em;}#sk-container-id-1 div.sk-estimator:hover {background-color: #d4ebff;}#sk-container-id-1 div.sk-parallel-item::after {content: \"\";width: 100%;border-bottom: 1px solid gray;flex-grow: 1;}#sk-container-id-1 div.sk-label:hover label.sk-toggleable__label {background-color: #d4ebff;}#sk-container-id-1 div.sk-serial::before {content: \"\";position: absolute;border-left: 1px solid gray;box-sizing: border-box;top: 0;bottom: 0;left: 50%;z-index: 0;}#sk-container-id-1 div.sk-serial {display: flex;flex-direction: column;align-items: center;background-color: white;padding-right: 0.2em;padding-left: 0.2em;position: relative;}#sk-container-id-1 div.sk-item {position: relative;z-index: 1;}#sk-container-id-1 div.sk-parallel {display: flex;align-items: stretch;justify-content: center;background-color: white;position: relative;}#sk-container-id-1 div.sk-item::before, #sk-container-id-1 div.sk-parallel-item::before {content: \"\";position: absolute;border-left: 1px solid gray;box-sizing: border-box;top: 0;bottom: 0;left: 50%;z-index: -1;}#sk-container-id-1 div.sk-parallel-item {display: flex;flex-direction: column;z-index: 1;position: relative;background-color: white;}#sk-container-id-1 div.sk-parallel-item:first-child::after {align-self: flex-end;width: 50%;}#sk-container-id-1 div.sk-parallel-item:last-child::after {align-self: flex-start;width: 50%;}#sk-container-id-1 div.sk-parallel-item:only-child::after {width: 0;}#sk-container-id-1 div.sk-dashed-wrapped {border: 1px dashed gray;margin: 0 0.4em 0.5em 0.4em;box-sizing: border-box;padding-bottom: 0.4em;background-color: white;}#sk-container-id-1 div.sk-label label {font-family: monospace;font-weight: bold;display: inline-block;line-height: 1.2em;}#sk-container-id-1 div.sk-label-container {text-align: center;}#sk-container-id-1 div.sk-container {/* jupyter's `normalize.less` sets `[hidden] { display: none; }` but bootstrap.min.css set `[hidden] { display: none !important; }` so we also need the `!important` here to be able to override the default hidden behavior on the sphinx rendered scikit-learn.org. See: https://github.com/scikit-learn/scikit-learn/issues/21755 */display: inline-block !important;position: relative;}#sk-container-id-1 div.sk-text-repr-fallback {display: none;}</style><div id=\"sk-container-id-1\" class=\"sk-top-container\"><div class=\"sk-text-repr-fallback\"><pre>OneHotEncoder()</pre><b>In a Jupyter environment, please rerun this cell to show the HTML representation or trust the notebook. <br />On GitHub, the HTML representation is unable to render, please try loading this page with nbviewer.org.</b></div><div class=\"sk-container\" hidden><div class=\"sk-item\"><div class=\"sk-estimator sk-toggleable\"><input class=\"sk-toggleable__control sk-hidden--visually\" id=\"sk-estimator-id-1\" type=\"checkbox\" checked><label for=\"sk-estimator-id-1\" class=\"sk-toggleable__label sk-toggleable__label-arrow\">OneHotEncoder</label><div class=\"sk-toggleable__content\"><pre>OneHotEncoder()</pre></div></div></div></div></div>"
      ],
      "text/plain": [
       "OneHotEncoder()"
      ]
     },
     "execution_count": 21,
     "metadata": {},
     "output_type": "execute_result"
    }
   ],
   "source": [
    "ohe = OneHotEncoder()\n",
    "ohe.fit(odi_df[['venue','bat_team','bowl_team']])"
   ]
  },
  {
   "cell_type": "code",
   "execution_count": 22,
   "id": "df09f508-b932-4960-ac89-117e5962a14b",
   "metadata": {},
   "outputs": [],
   "source": [
    "column_trans=make_column_transformer((OneHotEncoder(categories=ohe.categories_),['venue','bat_team','bowl_team']),\n",
    "                                    remainder='passthrough')"
   ]
  },
  {
   "cell_type": "code",
   "execution_count": 23,
   "id": "b82d9a88-e8b9-46ac-8ed5-cde2f1b15555",
   "metadata": {},
   "outputs": [],
   "source": [
    "lr = LinearRegression()\n",
    "pipe = make_pipeline(column_trans,lr)"
   ]
  },
  {
   "cell_type": "code",
   "execution_count": 24,
   "id": "239e17cd-9c37-4808-915f-b36ad0151994",
   "metadata": {},
   "outputs": [
    {
     "data": {
      "text/html": [
       "<style>#sk-container-id-2 {color: black;}#sk-container-id-2 pre{padding: 0;}#sk-container-id-2 div.sk-toggleable {background-color: white;}#sk-container-id-2 label.sk-toggleable__label {cursor: pointer;display: block;width: 100%;margin-bottom: 0;padding: 0.3em;box-sizing: border-box;text-align: center;}#sk-container-id-2 label.sk-toggleable__label-arrow:before {content: \"▸\";float: left;margin-right: 0.25em;color: #696969;}#sk-container-id-2 label.sk-toggleable__label-arrow:hover:before {color: black;}#sk-container-id-2 div.sk-estimator:hover label.sk-toggleable__label-arrow:before {color: black;}#sk-container-id-2 div.sk-toggleable__content {max-height: 0;max-width: 0;overflow: hidden;text-align: left;background-color: #f0f8ff;}#sk-container-id-2 div.sk-toggleable__content pre {margin: 0.2em;color: black;border-radius: 0.25em;background-color: #f0f8ff;}#sk-container-id-2 input.sk-toggleable__control:checked~div.sk-toggleable__content {max-height: 200px;max-width: 100%;overflow: auto;}#sk-container-id-2 input.sk-toggleable__control:checked~label.sk-toggleable__label-arrow:before {content: \"▾\";}#sk-container-id-2 div.sk-estimator input.sk-toggleable__control:checked~label.sk-toggleable__label {background-color: #d4ebff;}#sk-container-id-2 div.sk-label input.sk-toggleable__control:checked~label.sk-toggleable__label {background-color: #d4ebff;}#sk-container-id-2 input.sk-hidden--visually {border: 0;clip: rect(1px 1px 1px 1px);clip: rect(1px, 1px, 1px, 1px);height: 1px;margin: -1px;overflow: hidden;padding: 0;position: absolute;width: 1px;}#sk-container-id-2 div.sk-estimator {font-family: monospace;background-color: #f0f8ff;border: 1px dotted black;border-radius: 0.25em;box-sizing: border-box;margin-bottom: 0.5em;}#sk-container-id-2 div.sk-estimator:hover {background-color: #d4ebff;}#sk-container-id-2 div.sk-parallel-item::after {content: \"\";width: 100%;border-bottom: 1px solid gray;flex-grow: 1;}#sk-container-id-2 div.sk-label:hover label.sk-toggleable__label {background-color: #d4ebff;}#sk-container-id-2 div.sk-serial::before {content: \"\";position: absolute;border-left: 1px solid gray;box-sizing: border-box;top: 0;bottom: 0;left: 50%;z-index: 0;}#sk-container-id-2 div.sk-serial {display: flex;flex-direction: column;align-items: center;background-color: white;padding-right: 0.2em;padding-left: 0.2em;position: relative;}#sk-container-id-2 div.sk-item {position: relative;z-index: 1;}#sk-container-id-2 div.sk-parallel {display: flex;align-items: stretch;justify-content: center;background-color: white;position: relative;}#sk-container-id-2 div.sk-item::before, #sk-container-id-2 div.sk-parallel-item::before {content: \"\";position: absolute;border-left: 1px solid gray;box-sizing: border-box;top: 0;bottom: 0;left: 50%;z-index: -1;}#sk-container-id-2 div.sk-parallel-item {display: flex;flex-direction: column;z-index: 1;position: relative;background-color: white;}#sk-container-id-2 div.sk-parallel-item:first-child::after {align-self: flex-end;width: 50%;}#sk-container-id-2 div.sk-parallel-item:last-child::after {align-self: flex-start;width: 50%;}#sk-container-id-2 div.sk-parallel-item:only-child::after {width: 0;}#sk-container-id-2 div.sk-dashed-wrapped {border: 1px dashed gray;margin: 0 0.4em 0.5em 0.4em;box-sizing: border-box;padding-bottom: 0.4em;background-color: white;}#sk-container-id-2 div.sk-label label {font-family: monospace;font-weight: bold;display: inline-block;line-height: 1.2em;}#sk-container-id-2 div.sk-label-container {text-align: center;}#sk-container-id-2 div.sk-container {/* jupyter's `normalize.less` sets `[hidden] { display: none; }` but bootstrap.min.css set `[hidden] { display: none !important; }` so we also need the `!important` here to be able to override the default hidden behavior on the sphinx rendered scikit-learn.org. See: https://github.com/scikit-learn/scikit-learn/issues/21755 */display: inline-block !important;position: relative;}#sk-container-id-2 div.sk-text-repr-fallback {display: none;}</style><div id=\"sk-container-id-2\" class=\"sk-top-container\"><div class=\"sk-text-repr-fallback\"><pre>Pipeline(steps=[(&#x27;columntransformer&#x27;,\n",
       "                 ColumnTransformer(remainder=&#x27;passthrough&#x27;,\n",
       "                                   transformers=[(&#x27;onehotencoder&#x27;,\n",
       "                                                  OneHotEncoder(categories=[array([&#x27;AMI Stadium&#x27;, &#x27;Adelaide Oval&#x27;,\n",
       "       &#x27;Andhra Cricket Association-Visakhapatnam District Cricket Association Stadium&#x27;,\n",
       "       &#x27;Arnos Vale Ground, Kingstown&#x27;, &#x27;Barabati Stadium&#x27;,\n",
       "       &#x27;Basin Reserve&#x27;, &#x27;Bay Oval&#x27;, &#x27;Beausejour Stadium, Gros Islet&#x27;,\n",
       "       &#x27;Bel...\n",
       "                                                                            array([&#x27;Afghanistan&#x27;, &#x27;Australia&#x27;, &#x27;Bangladesh&#x27;, &#x27;England&#x27;, &#x27;India&#x27;,\n",
       "       &#x27;New Zealand&#x27;, &#x27;Pakistan&#x27;, &#x27;South Africa&#x27;, &#x27;Sri Lanka&#x27;,\n",
       "       &#x27;West Indies&#x27;], dtype=object),\n",
       "                                                                            array([&#x27;Afghanistan&#x27;, &#x27;Australia&#x27;, &#x27;Bangladesh&#x27;, &#x27;England&#x27;, &#x27;India&#x27;,\n",
       "       &#x27;New Zealand&#x27;, &#x27;Pakistan&#x27;, &#x27;South Africa&#x27;, &#x27;Sri Lanka&#x27;,\n",
       "       &#x27;West Indies&#x27;], dtype=object)]),\n",
       "                                                  [&#x27;venue&#x27;, &#x27;bat_team&#x27;,\n",
       "                                                   &#x27;bowl_team&#x27;])])),\n",
       "                (&#x27;linearregression&#x27;, LinearRegression())])</pre><b>In a Jupyter environment, please rerun this cell to show the HTML representation or trust the notebook. <br />On GitHub, the HTML representation is unable to render, please try loading this page with nbviewer.org.</b></div><div class=\"sk-container\" hidden><div class=\"sk-item sk-dashed-wrapped\"><div class=\"sk-label-container\"><div class=\"sk-label sk-toggleable\"><input class=\"sk-toggleable__control sk-hidden--visually\" id=\"sk-estimator-id-2\" type=\"checkbox\" ><label for=\"sk-estimator-id-2\" class=\"sk-toggleable__label sk-toggleable__label-arrow\">Pipeline</label><div class=\"sk-toggleable__content\"><pre>Pipeline(steps=[(&#x27;columntransformer&#x27;,\n",
       "                 ColumnTransformer(remainder=&#x27;passthrough&#x27;,\n",
       "                                   transformers=[(&#x27;onehotencoder&#x27;,\n",
       "                                                  OneHotEncoder(categories=[array([&#x27;AMI Stadium&#x27;, &#x27;Adelaide Oval&#x27;,\n",
       "       &#x27;Andhra Cricket Association-Visakhapatnam District Cricket Association Stadium&#x27;,\n",
       "       &#x27;Arnos Vale Ground, Kingstown&#x27;, &#x27;Barabati Stadium&#x27;,\n",
       "       &#x27;Basin Reserve&#x27;, &#x27;Bay Oval&#x27;, &#x27;Beausejour Stadium, Gros Islet&#x27;,\n",
       "       &#x27;Bel...\n",
       "                                                                            array([&#x27;Afghanistan&#x27;, &#x27;Australia&#x27;, &#x27;Bangladesh&#x27;, &#x27;England&#x27;, &#x27;India&#x27;,\n",
       "       &#x27;New Zealand&#x27;, &#x27;Pakistan&#x27;, &#x27;South Africa&#x27;, &#x27;Sri Lanka&#x27;,\n",
       "       &#x27;West Indies&#x27;], dtype=object),\n",
       "                                                                            array([&#x27;Afghanistan&#x27;, &#x27;Australia&#x27;, &#x27;Bangladesh&#x27;, &#x27;England&#x27;, &#x27;India&#x27;,\n",
       "       &#x27;New Zealand&#x27;, &#x27;Pakistan&#x27;, &#x27;South Africa&#x27;, &#x27;Sri Lanka&#x27;,\n",
       "       &#x27;West Indies&#x27;], dtype=object)]),\n",
       "                                                  [&#x27;venue&#x27;, &#x27;bat_team&#x27;,\n",
       "                                                   &#x27;bowl_team&#x27;])])),\n",
       "                (&#x27;linearregression&#x27;, LinearRegression())])</pre></div></div></div><div class=\"sk-serial\"><div class=\"sk-item sk-dashed-wrapped\"><div class=\"sk-label-container\"><div class=\"sk-label sk-toggleable\"><input class=\"sk-toggleable__control sk-hidden--visually\" id=\"sk-estimator-id-3\" type=\"checkbox\" ><label for=\"sk-estimator-id-3\" class=\"sk-toggleable__label sk-toggleable__label-arrow\">columntransformer: ColumnTransformer</label><div class=\"sk-toggleable__content\"><pre>ColumnTransformer(remainder=&#x27;passthrough&#x27;,\n",
       "                  transformers=[(&#x27;onehotencoder&#x27;,\n",
       "                                 OneHotEncoder(categories=[array([&#x27;AMI Stadium&#x27;, &#x27;Adelaide Oval&#x27;,\n",
       "       &#x27;Andhra Cricket Association-Visakhapatnam District Cricket Association Stadium&#x27;,\n",
       "       &#x27;Arnos Vale Ground, Kingstown&#x27;, &#x27;Barabati Stadium&#x27;,\n",
       "       &#x27;Basin Reserve&#x27;, &#x27;Bay Oval&#x27;, &#x27;Beausejour Stadium, Gros Islet&#x27;,\n",
       "       &#x27;Bellerive Oval&#x27;, &#x27;Boland Park&#x27;, &#x27;Brabourne St...\n",
       "       &#x27;Zahur Ahmed Chowdhury Stadium&#x27;, &#x27;Zohur Ahmed Chowdhury Stadium&#x27;],\n",
       "      dtype=object),\n",
       "                                                           array([&#x27;Afghanistan&#x27;, &#x27;Australia&#x27;, &#x27;Bangladesh&#x27;, &#x27;England&#x27;, &#x27;India&#x27;,\n",
       "       &#x27;New Zealand&#x27;, &#x27;Pakistan&#x27;, &#x27;South Africa&#x27;, &#x27;Sri Lanka&#x27;,\n",
       "       &#x27;West Indies&#x27;], dtype=object),\n",
       "                                                           array([&#x27;Afghanistan&#x27;, &#x27;Australia&#x27;, &#x27;Bangladesh&#x27;, &#x27;England&#x27;, &#x27;India&#x27;,\n",
       "       &#x27;New Zealand&#x27;, &#x27;Pakistan&#x27;, &#x27;South Africa&#x27;, &#x27;Sri Lanka&#x27;,\n",
       "       &#x27;West Indies&#x27;], dtype=object)]),\n",
       "                                 [&#x27;venue&#x27;, &#x27;bat_team&#x27;, &#x27;bowl_team&#x27;])])</pre></div></div></div><div class=\"sk-parallel\"><div class=\"sk-parallel-item\"><div class=\"sk-item\"><div class=\"sk-label-container\"><div class=\"sk-label sk-toggleable\"><input class=\"sk-toggleable__control sk-hidden--visually\" id=\"sk-estimator-id-4\" type=\"checkbox\" ><label for=\"sk-estimator-id-4\" class=\"sk-toggleable__label sk-toggleable__label-arrow\">onehotencoder</label><div class=\"sk-toggleable__content\"><pre>[&#x27;venue&#x27;, &#x27;bat_team&#x27;, &#x27;bowl_team&#x27;]</pre></div></div></div><div class=\"sk-serial\"><div class=\"sk-item\"><div class=\"sk-estimator sk-toggleable\"><input class=\"sk-toggleable__control sk-hidden--visually\" id=\"sk-estimator-id-5\" type=\"checkbox\" ><label for=\"sk-estimator-id-5\" class=\"sk-toggleable__label sk-toggleable__label-arrow\">OneHotEncoder</label><div class=\"sk-toggleable__content\"><pre>OneHotEncoder(categories=[array([&#x27;AMI Stadium&#x27;, &#x27;Adelaide Oval&#x27;,\n",
       "       &#x27;Andhra Cricket Association-Visakhapatnam District Cricket Association Stadium&#x27;,\n",
       "       &#x27;Arnos Vale Ground, Kingstown&#x27;, &#x27;Barabati Stadium&#x27;,\n",
       "       &#x27;Basin Reserve&#x27;, &#x27;Bay Oval&#x27;, &#x27;Beausejour Stadium, Gros Islet&#x27;,\n",
       "       &#x27;Bellerive Oval&#x27;, &#x27;Boland Park&#x27;, &#x27;Brabourne Stadium&#x27;,\n",
       "       &#x27;Brisbane Cricket Ground, Woolloongabba&#x27;, &#x27;Buffalo Park&#x27;,\n",
       "       &#x27;Captain Roop Si...\n",
       "       &#x27;Zahur Ahmed Chowdhury Stadium&#x27;, &#x27;Zohur Ahmed Chowdhury Stadium&#x27;],\n",
       "      dtype=object),\n",
       "                          array([&#x27;Afghanistan&#x27;, &#x27;Australia&#x27;, &#x27;Bangladesh&#x27;, &#x27;England&#x27;, &#x27;India&#x27;,\n",
       "       &#x27;New Zealand&#x27;, &#x27;Pakistan&#x27;, &#x27;South Africa&#x27;, &#x27;Sri Lanka&#x27;,\n",
       "       &#x27;West Indies&#x27;], dtype=object),\n",
       "                          array([&#x27;Afghanistan&#x27;, &#x27;Australia&#x27;, &#x27;Bangladesh&#x27;, &#x27;England&#x27;, &#x27;India&#x27;,\n",
       "       &#x27;New Zealand&#x27;, &#x27;Pakistan&#x27;, &#x27;South Africa&#x27;, &#x27;Sri Lanka&#x27;,\n",
       "       &#x27;West Indies&#x27;], dtype=object)])</pre></div></div></div></div></div></div><div class=\"sk-parallel-item\"><div class=\"sk-item\"><div class=\"sk-label-container\"><div class=\"sk-label sk-toggleable\"><input class=\"sk-toggleable__control sk-hidden--visually\" id=\"sk-estimator-id-6\" type=\"checkbox\" ><label for=\"sk-estimator-id-6\" class=\"sk-toggleable__label sk-toggleable__label-arrow\">remainder</label><div class=\"sk-toggleable__content\"><pre>[&#x27;runs&#x27;, &#x27;wickets&#x27;, &#x27;overs&#x27;, &#x27;runs_last_5&#x27;, &#x27;wickets_last_5&#x27;]</pre></div></div></div><div class=\"sk-serial\"><div class=\"sk-item\"><div class=\"sk-estimator sk-toggleable\"><input class=\"sk-toggleable__control sk-hidden--visually\" id=\"sk-estimator-id-7\" type=\"checkbox\" ><label for=\"sk-estimator-id-7\" class=\"sk-toggleable__label sk-toggleable__label-arrow\">passthrough</label><div class=\"sk-toggleable__content\"><pre>passthrough</pre></div></div></div></div></div></div></div></div><div class=\"sk-item\"><div class=\"sk-estimator sk-toggleable\"><input class=\"sk-toggleable__control sk-hidden--visually\" id=\"sk-estimator-id-8\" type=\"checkbox\" ><label for=\"sk-estimator-id-8\" class=\"sk-toggleable__label sk-toggleable__label-arrow\">LinearRegression</label><div class=\"sk-toggleable__content\"><pre>LinearRegression()</pre></div></div></div></div></div></div></div>"
      ],
      "text/plain": [
       "Pipeline(steps=[('columntransformer',\n",
       "                 ColumnTransformer(remainder='passthrough',\n",
       "                                   transformers=[('onehotencoder',\n",
       "                                                  OneHotEncoder(categories=[array(['AMI Stadium', 'Adelaide Oval',\n",
       "       'Andhra Cricket Association-Visakhapatnam District Cricket Association Stadium',\n",
       "       'Arnos Vale Ground, Kingstown', 'Barabati Stadium',\n",
       "       'Basin Reserve', 'Bay Oval', 'Beausejour Stadium, Gros Islet',\n",
       "       'Bel...\n",
       "                                                                            array(['Afghanistan', 'Australia', 'Bangladesh', 'England', 'India',\n",
       "       'New Zealand', 'Pakistan', 'South Africa', 'Sri Lanka',\n",
       "       'West Indies'], dtype=object),\n",
       "                                                                            array(['Afghanistan', 'Australia', 'Bangladesh', 'England', 'India',\n",
       "       'New Zealand', 'Pakistan', 'South Africa', 'Sri Lanka',\n",
       "       'West Indies'], dtype=object)]),\n",
       "                                                  ['venue', 'bat_team',\n",
       "                                                   'bowl_team'])])),\n",
       "                ('linearregression', LinearRegression())])"
      ]
     },
     "execution_count": 24,
     "metadata": {},
     "output_type": "execute_result"
    }
   ],
   "source": [
    "pipe.fit(X_train, y_train)"
   ]
  },
  {
   "cell_type": "code",
   "execution_count": 25,
   "id": "6b705239-6a7a-4012-8a16-7e017b41cd9f",
   "metadata": {},
   "outputs": [],
   "source": [
    "y_pred = pipe.predict(X_test)"
   ]
  },
  {
   "cell_type": "code",
   "execution_count": 26,
   "id": "f4603722-63c9-4e59-b294-9c270778b902",
   "metadata": {},
   "outputs": [
    {
     "data": {
      "text/plain": [
       "0.6363470224913299"
      ]
     },
     "execution_count": 26,
     "metadata": {},
     "output_type": "execute_result"
    }
   ],
   "source": [
    "r2_score(y_test,y_pred)"
   ]
  },
  {
   "cell_type": "code",
   "execution_count": 27,
   "id": "ca11747e-c855-4c51-b40b-fce8e399a9ec",
   "metadata": {},
   "outputs": [
    {
     "data": {
      "text/plain": [
       "array([263.54750972, 255.96953397, 198.91871437, ..., 277.06965802,\n",
       "       273.12358646, 239.76795612])"
      ]
     },
     "execution_count": 27,
     "metadata": {},
     "output_type": "execute_result"
    }
   ],
   "source": [
    "y_pred"
   ]
  },
  {
   "cell_type": "code",
   "execution_count": 28,
   "id": "c7a7e38a-9069-47ae-bb14-e856a2b48ff7",
   "metadata": {},
   "outputs": [
    {
     "data": {
      "text/plain": [
       "117175    214\n",
       "151309    303\n",
       "46919     213\n",
       "67521     290\n",
       "110640    321\n",
       "         ... \n",
       "103950    309\n",
       "180764    280\n",
       "59886     253\n",
       "257511    262\n",
       "145878    229\n",
       "Name: total, Length: 47168, dtype: int64"
      ]
     },
     "execution_count": 28,
     "metadata": {},
     "output_type": "execute_result"
    }
   ],
   "source": [
    "y_test"
   ]
  },
  {
   "cell_type": "code",
   "execution_count": 29,
   "id": "eb83360e-31bd-49a5-b829-8274d07c5c18",
   "metadata": {},
   "outputs": [],
   "source": [
    "# # Creating a pickle file for the classifier\n",
    "# import pickle\n",
    "# filename = 'odi_model.pkl'\n",
    "# pickle.dump(pipe, open(filename, 'wb'))"
   ]
  },
  {
   "cell_type": "code",
   "execution_count": null,
   "id": "e672f750-a43f-41bf-bc2e-187154388e84",
   "metadata": {},
   "outputs": [],
   "source": []
  }
 ],
 "metadata": {
  "kernelspec": {
   "display_name": "Python 3 (ipykernel)",
   "language": "python",
   "name": "python3"
  },
  "language_info": {
   "codemirror_mode": {
    "name": "ipython",
    "version": 3
   },
   "file_extension": ".py",
   "mimetype": "text/x-python",
   "name": "python",
   "nbconvert_exporter": "python",
   "pygments_lexer": "ipython3",
   "version": "3.11.5"
  }
 },
 "nbformat": 4,
 "nbformat_minor": 5
}
