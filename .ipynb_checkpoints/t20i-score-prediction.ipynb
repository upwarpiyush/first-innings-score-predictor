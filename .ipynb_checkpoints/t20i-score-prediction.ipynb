{
 "cells": [
  {
   "cell_type": "code",
   "execution_count": 1,
   "id": "6ec70a6a-7b9b-419c-b80e-8e27f68a8fcb",
   "metadata": {},
   "outputs": [],
   "source": [
    "import pandas as pd\n",
    "import numpy as np"
   ]
  },
  {
   "cell_type": "code",
   "execution_count": 2,
   "id": "9bcaf91c-4f7e-439c-a4a8-1042c51029e5",
   "metadata": {},
   "outputs": [],
   "source": [
    "t20_df = pd.read_csv('t20.csv')"
   ]
  },
  {
   "cell_type": "code",
   "execution_count": 3,
   "id": "3a2a5af3-099f-4eaf-870c-38d6c86e26f0",
   "metadata": {},
   "outputs": [
    {
     "data": {
      "text/html": [
       "<div>\n",
       "<style scoped>\n",
       "    .dataframe tbody tr th:only-of-type {\n",
       "        vertical-align: middle;\n",
       "    }\n",
       "\n",
       "    .dataframe tbody tr th {\n",
       "        vertical-align: top;\n",
       "    }\n",
       "\n",
       "    .dataframe thead th {\n",
       "        text-align: right;\n",
       "    }\n",
       "</style>\n",
       "<table border=\"1\" class=\"dataframe\">\n",
       "  <thead>\n",
       "    <tr style=\"text-align: right;\">\n",
       "      <th></th>\n",
       "      <th>mid</th>\n",
       "      <th>date</th>\n",
       "      <th>venue</th>\n",
       "      <th>bat_team</th>\n",
       "      <th>bowl_team</th>\n",
       "      <th>batsman</th>\n",
       "      <th>bowler</th>\n",
       "      <th>runs</th>\n",
       "      <th>wickets</th>\n",
       "      <th>overs</th>\n",
       "      <th>runs_last_5</th>\n",
       "      <th>wickets_last_5</th>\n",
       "      <th>striker</th>\n",
       "      <th>non-striker</th>\n",
       "      <th>total</th>\n",
       "    </tr>\n",
       "  </thead>\n",
       "  <tbody>\n",
       "    <tr>\n",
       "      <th>0</th>\n",
       "      <td>1</td>\n",
       "      <td>2005-06-13</td>\n",
       "      <td>The Rose Bowl</td>\n",
       "      <td>England</td>\n",
       "      <td>Australia</td>\n",
       "      <td>ME Trescothick</td>\n",
       "      <td>B Lee</td>\n",
       "      <td>0</td>\n",
       "      <td>0</td>\n",
       "      <td>0.1</td>\n",
       "      <td>0</td>\n",
       "      <td>0</td>\n",
       "      <td>0</td>\n",
       "      <td>0</td>\n",
       "      <td>179</td>\n",
       "    </tr>\n",
       "    <tr>\n",
       "      <th>1</th>\n",
       "      <td>1</td>\n",
       "      <td>2005-06-13</td>\n",
       "      <td>The Rose Bowl</td>\n",
       "      <td>England</td>\n",
       "      <td>Australia</td>\n",
       "      <td>ME Trescothick</td>\n",
       "      <td>B Lee</td>\n",
       "      <td>1</td>\n",
       "      <td>0</td>\n",
       "      <td>0.2</td>\n",
       "      <td>1</td>\n",
       "      <td>0</td>\n",
       "      <td>1</td>\n",
       "      <td>0</td>\n",
       "      <td>179</td>\n",
       "    </tr>\n",
       "    <tr>\n",
       "      <th>2</th>\n",
       "      <td>1</td>\n",
       "      <td>2005-06-13</td>\n",
       "      <td>The Rose Bowl</td>\n",
       "      <td>England</td>\n",
       "      <td>Australia</td>\n",
       "      <td>GO Jones</td>\n",
       "      <td>B Lee</td>\n",
       "      <td>1</td>\n",
       "      <td>0</td>\n",
       "      <td>0.3</td>\n",
       "      <td>1</td>\n",
       "      <td>0</td>\n",
       "      <td>1</td>\n",
       "      <td>0</td>\n",
       "      <td>179</td>\n",
       "    </tr>\n",
       "    <tr>\n",
       "      <th>3</th>\n",
       "      <td>1</td>\n",
       "      <td>2005-06-13</td>\n",
       "      <td>The Rose Bowl</td>\n",
       "      <td>England</td>\n",
       "      <td>Australia</td>\n",
       "      <td>GO Jones</td>\n",
       "      <td>B Lee</td>\n",
       "      <td>1</td>\n",
       "      <td>0</td>\n",
       "      <td>0.4</td>\n",
       "      <td>1</td>\n",
       "      <td>0</td>\n",
       "      <td>1</td>\n",
       "      <td>0</td>\n",
       "      <td>179</td>\n",
       "    </tr>\n",
       "    <tr>\n",
       "      <th>4</th>\n",
       "      <td>1</td>\n",
       "      <td>2005-06-13</td>\n",
       "      <td>The Rose Bowl</td>\n",
       "      <td>England</td>\n",
       "      <td>Australia</td>\n",
       "      <td>GO Jones</td>\n",
       "      <td>B Lee</td>\n",
       "      <td>1</td>\n",
       "      <td>0</td>\n",
       "      <td>0.5</td>\n",
       "      <td>1</td>\n",
       "      <td>0</td>\n",
       "      <td>1</td>\n",
       "      <td>0</td>\n",
       "      <td>179</td>\n",
       "    </tr>\n",
       "  </tbody>\n",
       "</table>\n",
       "</div>"
      ],
      "text/plain": [
       "   mid        date          venue bat_team  bowl_team         batsman bowler  \\\n",
       "0    1  2005-06-13  The Rose Bowl  England  Australia  ME Trescothick  B Lee   \n",
       "1    1  2005-06-13  The Rose Bowl  England  Australia  ME Trescothick  B Lee   \n",
       "2    1  2005-06-13  The Rose Bowl  England  Australia        GO Jones  B Lee   \n",
       "3    1  2005-06-13  The Rose Bowl  England  Australia        GO Jones  B Lee   \n",
       "4    1  2005-06-13  The Rose Bowl  England  Australia        GO Jones  B Lee   \n",
       "\n",
       "   runs  wickets  overs  runs_last_5  wickets_last_5  striker  non-striker  \\\n",
       "0     0        0    0.1            0               0        0            0   \n",
       "1     1        0    0.2            1               0        1            0   \n",
       "2     1        0    0.3            1               0        1            0   \n",
       "3     1        0    0.4            1               0        1            0   \n",
       "4     1        0    0.5            1               0        1            0   \n",
       "\n",
       "   total  \n",
       "0    179  \n",
       "1    179  \n",
       "2    179  \n",
       "3    179  \n",
       "4    179  "
      ]
     },
     "execution_count": 3,
     "metadata": {},
     "output_type": "execute_result"
    }
   ],
   "source": [
    "t20_df.head()"
   ]
  },
  {
   "cell_type": "code",
   "execution_count": 4,
   "id": "9b5217e3-5f2c-4daf-85ed-8577d3dd3995",
   "metadata": {},
   "outputs": [
    {
     "data": {
      "text/plain": [
       "(180777, 15)"
      ]
     },
     "execution_count": 4,
     "metadata": {},
     "output_type": "execute_result"
    }
   ],
   "source": [
    "t20_df.shape"
   ]
  },
  {
   "cell_type": "code",
   "execution_count": 5,
   "id": "1aabf65a-42b6-4d12-b65b-c42e5436bf7e",
   "metadata": {},
   "outputs": [
    {
     "data": {
      "text/plain": [
       "(114,)"
      ]
     },
     "execution_count": 5,
     "metadata": {},
     "output_type": "execute_result"
    }
   ],
   "source": [
    "t20_df['venue'].unique().shape"
   ]
  },
  {
   "cell_type": "code",
   "execution_count": 6,
   "id": "af96c950-3134-46bd-aa00-de4998906162",
   "metadata": {},
   "outputs": [],
   "source": [
    "# --- Data Cleaning ---\n",
    "# Removing unwanted columns\n",
    "columns_to_remove = ['mid', 'date', 'batsman', 'bowler', 'striker', 'non-striker']\n",
    "t20_df.drop(labels=columns_to_remove, axis=1, inplace=True)"
   ]
  },
  {
   "cell_type": "code",
   "execution_count": 7,
   "id": "e2c8e9a1-792f-4e0e-9cfe-5313a6dc44ce",
   "metadata": {},
   "outputs": [
    {
     "data": {
      "text/plain": [
       "array(['England', 'Australia', 'South Africa', 'Sri Lanka', 'West Indies',\n",
       "       'Kenya', 'Pakistan', 'India', 'New Zealand', 'Bangladesh',\n",
       "       'Kolkata Knight Riders', 'Chennai Super Kings', 'Rajasthan Royals',\n",
       "       'Mumbai Indians', 'Deccan Chargers', 'Kings XI Punjab',\n",
       "       'Royal Challengers Bangalore', 'Delhi Daredevils', 'Bermuda',\n",
       "       'Scotland', 'Ireland', 'Afghanistan', 'Zimbabwe', 'Canada',\n",
       "       'Kochi Tuskers Kerala', 'Pune Warriors', 'Brisbane Heat',\n",
       "       'Melbourne Stars', 'Adelaide Strikers', 'Hobart Hurricanes',\n",
       "       'Melbourne Renegades', 'Sydney Sixers', 'Perth Scorchers',\n",
       "       'Sydney Thunder', 'Netherlands', 'Sunrisers Hyderabad', 'Nepal',\n",
       "       'United Arab Emirates', 'Hong Kong', 'Papua New Guinea', 'Oman',\n",
       "       'Nottinghamshire', 'Worcestershire', 'Somerset', 'Surrey',\n",
       "       'Lancashire', 'Middlesex', 'Derbyshire', 'Leicestershire',\n",
       "       'Warwickshire', 'Glamorgan', 'Durham', 'Sussex', 'Hampshire',\n",
       "       'Yorkshire', 'Essex', 'Kent', 'Gloucestershire',\n",
       "       'Northamptonshire', 'Rising Pune Supergiants', 'Gujarat Lions',\n",
       "       'Quetta Gladiators', 'Karachi Kings', 'Islamabad United',\n",
       "       'Lahore Qalandars', 'Peshawar Zalmi', 'Rising Pune Supergiant'],\n",
       "      dtype=object)"
      ]
     },
     "execution_count": 7,
     "metadata": {},
     "output_type": "execute_result"
    }
   ],
   "source": [
    "t20_df[\"bat_team\"].unique()"
   ]
  },
  {
   "cell_type": "code",
   "execution_count": 8,
   "id": "12331852-2676-408b-9dab-91a46f9a1f4c",
   "metadata": {},
   "outputs": [],
   "source": [
    "t20_teams = ['England', 'Australia', 'South Africa', 'Sri Lanka', 'West Indies',\n",
    "       'Pakistan', 'India', 'New Zealand', 'Bangladesh', 'Afghanistan']"
   ]
  },
  {
   "cell_type": "code",
   "execution_count": 9,
   "id": "dabbd3dc-e624-4961-ab1e-d9c7151fd416",
   "metadata": {},
   "outputs": [],
   "source": [
    "t20_df = t20_df[t20_df['bat_team'].isin(t20_teams)]\n",
    "t20_df = t20_df[t20_df['bowl_team'].isin(t20_teams)]"
   ]
  },
  {
   "cell_type": "code",
   "execution_count": 10,
   "id": "030adb5f-e97b-417e-88c2-eb77a87df5d7",
   "metadata": {},
   "outputs": [
    {
     "data": {
      "text/plain": [
       "(43920, 9)"
      ]
     },
     "execution_count": 10,
     "metadata": {},
     "output_type": "execute_result"
    }
   ],
   "source": [
    "t20_df.shape"
   ]
  },
  {
   "cell_type": "code",
   "execution_count": 26,
   "id": "efc8df1b-186b-48b3-9357-da00e8db5ee9",
   "metadata": {},
   "outputs": [
    {
     "data": {
      "text/plain": [
       "array(['The Rose Bowl', 'Eden Park', 'New Wanderers Stadium',\n",
       "       'County Ground', 'Brisbane Cricket Ground, Woolloongabba',\n",
       "       'Sydney Cricket Ground', 'Kennington Oval', 'Newlands',\n",
       "       'Kingsmead', 'Western Australia Cricket Association Ground',\n",
       "       'Melbourne Cricket Ground', 'Old Trafford', 'Brabourne Stadium',\n",
       "       'Jade Stadium', 'Gymkhana Club Ground', \"St George's Park\",\n",
       "       'Kensington Oval, Bridgetown', 'National Stadium',\n",
       "       'SuperSport Park', \"Queen's Park Oval, Port of Spain\",\n",
       "       'Trent Bridge', \"Lord's\", 'Maple Leaf North-West Ground',\n",
       "       'Westpac Stadium', 'Seddon Park', 'AMI Stadium',\n",
       "       'R Premadasa Stadium', 'Dubai International Cricket Stadium',\n",
       "       'Warner Park, Basseterre', 'Bellerive Oval', 'Providence Stadium',\n",
       "       'Beausejour Stadium, Gros Islet', 'Edgbaston', 'Sophia Gardens',\n",
       "       'Vidarbha Cricket Association Stadium, Jamtha',\n",
       "       'Punjab Cricket Association Stadium, Mohali',\n",
       "       'Sir Vivian Richards Stadium, North Sound', 'Adelaide Oval',\n",
       "       'Central Broward Regional Park Stadium Turf Ground',\n",
       "       'Sheikh Zayed Stadium', 'Moses Mabhida Stadium',\n",
       "       'Pallekele International Cricket Stadium', 'Stadium Australia',\n",
       "       'Eden Gardens', 'Shere Bangla National Stadium',\n",
       "       'Mahinda Rajapaksa International Cricket Stadium, Sooriyawewa',\n",
       "       'Riverside Ground', 'Subrata Roy Sahara Stadium',\n",
       "       'Wankhede Stadium', 'MA Chidambaram Stadium, Chepauk',\n",
       "       'M Chinnaswamy Stadium', 'Sardar Patel Stadium, Motera',\n",
       "       'Arnos Vale Ground, Kingstown',\n",
       "       'Saurashtra Cricket Association Stadium',\n",
       "       'Sharjah Cricket Stadium', 'Zahur Ahmed Chowdhury Stadium',\n",
       "       'Windsor Park, Roseau',\n",
       "       'Himachal Pradesh Cricket Association Stadium', 'Barabati Stadium',\n",
       "       'Bay Oval', 'Punjab Cricket Association IS Bindra Stadium, Mohali',\n",
       "       'Feroz Shah Kotla', 'Maharashtra Cricket Association Stadium',\n",
       "       'JSCA International Stadium Complex',\n",
       "       'Dr. Y.S. Rajasekhara Reddy ACA-VDCA Cricket Stadium',\n",
       "       'Simonds Stadium, South Geelong', 'McLean Park', 'Green Park',\n",
       "       'Sabina Park, Kingston'], dtype=object)"
      ]
     },
     "execution_count": 26,
     "metadata": {},
     "output_type": "execute_result"
    }
   ],
   "source": [
    "t20_df['venue'].unique()"
   ]
  },
  {
   "cell_type": "code",
   "execution_count": 12,
   "id": "6fce111c-19b0-4362-8597-2c53aeadda4c",
   "metadata": {},
   "outputs": [],
   "source": [
    "# Removing the first 5 overs data in every match\n",
    "t20_df = t20_df[t20_df['overs']>=5.0]"
   ]
  },
  {
   "cell_type": "code",
   "execution_count": 13,
   "id": "43bdedb6-2a93-4944-baa1-f9a1c36890f1",
   "metadata": {},
   "outputs": [],
   "source": [
    "X = t20_df.iloc[:,:-1]\n",
    "y = t20_df.iloc[:,-1]\n",
    "from sklearn.model_selection import train_test_split\n",
    "X_train,X_test,y_train,y_test = train_test_split(X,y,test_size=0.2,random_state=1)"
   ]
  },
  {
   "cell_type": "code",
   "execution_count": 14,
   "id": "5c8db47e-88a7-473b-a40b-0b1d27b280dd",
   "metadata": {},
   "outputs": [],
   "source": [
    "from sklearn.preprocessing import OneHotEncoder\n",
    "from sklearn.compose import make_column_transformer\n",
    "from sklearn.pipeline import make_pipeline\n",
    "from sklearn.metrics import r2_score"
   ]
  },
  {
   "cell_type": "code",
   "execution_count": 15,
   "id": "0c64403c-d7ce-43ee-b5b1-820053a659fd",
   "metadata": {},
   "outputs": [],
   "source": [
    "from sklearn.linear_model import LinearRegression"
   ]
  },
  {
   "cell_type": "code",
   "execution_count": 16,
   "id": "acf30c16-2db7-4826-a934-3c9967187d1b",
   "metadata": {},
   "outputs": [
    {
     "data": {
      "text/html": [
       "<style>#sk-container-id-1 {color: black;}#sk-container-id-1 pre{padding: 0;}#sk-container-id-1 div.sk-toggleable {background-color: white;}#sk-container-id-1 label.sk-toggleable__label {cursor: pointer;display: block;width: 100%;margin-bottom: 0;padding: 0.3em;box-sizing: border-box;text-align: center;}#sk-container-id-1 label.sk-toggleable__label-arrow:before {content: \"▸\";float: left;margin-right: 0.25em;color: #696969;}#sk-container-id-1 label.sk-toggleable__label-arrow:hover:before {color: black;}#sk-container-id-1 div.sk-estimator:hover label.sk-toggleable__label-arrow:before {color: black;}#sk-container-id-1 div.sk-toggleable__content {max-height: 0;max-width: 0;overflow: hidden;text-align: left;background-color: #f0f8ff;}#sk-container-id-1 div.sk-toggleable__content pre {margin: 0.2em;color: black;border-radius: 0.25em;background-color: #f0f8ff;}#sk-container-id-1 input.sk-toggleable__control:checked~div.sk-toggleable__content {max-height: 200px;max-width: 100%;overflow: auto;}#sk-container-id-1 input.sk-toggleable__control:checked~label.sk-toggleable__label-arrow:before {content: \"▾\";}#sk-container-id-1 div.sk-estimator input.sk-toggleable__control:checked~label.sk-toggleable__label {background-color: #d4ebff;}#sk-container-id-1 div.sk-label input.sk-toggleable__control:checked~label.sk-toggleable__label {background-color: #d4ebff;}#sk-container-id-1 input.sk-hidden--visually {border: 0;clip: rect(1px 1px 1px 1px);clip: rect(1px, 1px, 1px, 1px);height: 1px;margin: -1px;overflow: hidden;padding: 0;position: absolute;width: 1px;}#sk-container-id-1 div.sk-estimator {font-family: monospace;background-color: #f0f8ff;border: 1px dotted black;border-radius: 0.25em;box-sizing: border-box;margin-bottom: 0.5em;}#sk-container-id-1 div.sk-estimator:hover {background-color: #d4ebff;}#sk-container-id-1 div.sk-parallel-item::after {content: \"\";width: 100%;border-bottom: 1px solid gray;flex-grow: 1;}#sk-container-id-1 div.sk-label:hover label.sk-toggleable__label {background-color: #d4ebff;}#sk-container-id-1 div.sk-serial::before {content: \"\";position: absolute;border-left: 1px solid gray;box-sizing: border-box;top: 0;bottom: 0;left: 50%;z-index: 0;}#sk-container-id-1 div.sk-serial {display: flex;flex-direction: column;align-items: center;background-color: white;padding-right: 0.2em;padding-left: 0.2em;position: relative;}#sk-container-id-1 div.sk-item {position: relative;z-index: 1;}#sk-container-id-1 div.sk-parallel {display: flex;align-items: stretch;justify-content: center;background-color: white;position: relative;}#sk-container-id-1 div.sk-item::before, #sk-container-id-1 div.sk-parallel-item::before {content: \"\";position: absolute;border-left: 1px solid gray;box-sizing: border-box;top: 0;bottom: 0;left: 50%;z-index: -1;}#sk-container-id-1 div.sk-parallel-item {display: flex;flex-direction: column;z-index: 1;position: relative;background-color: white;}#sk-container-id-1 div.sk-parallel-item:first-child::after {align-self: flex-end;width: 50%;}#sk-container-id-1 div.sk-parallel-item:last-child::after {align-self: flex-start;width: 50%;}#sk-container-id-1 div.sk-parallel-item:only-child::after {width: 0;}#sk-container-id-1 div.sk-dashed-wrapped {border: 1px dashed gray;margin: 0 0.4em 0.5em 0.4em;box-sizing: border-box;padding-bottom: 0.4em;background-color: white;}#sk-container-id-1 div.sk-label label {font-family: monospace;font-weight: bold;display: inline-block;line-height: 1.2em;}#sk-container-id-1 div.sk-label-container {text-align: center;}#sk-container-id-1 div.sk-container {/* jupyter's `normalize.less` sets `[hidden] { display: none; }` but bootstrap.min.css set `[hidden] { display: none !important; }` so we also need the `!important` here to be able to override the default hidden behavior on the sphinx rendered scikit-learn.org. See: https://github.com/scikit-learn/scikit-learn/issues/21755 */display: inline-block !important;position: relative;}#sk-container-id-1 div.sk-text-repr-fallback {display: none;}</style><div id=\"sk-container-id-1\" class=\"sk-top-container\"><div class=\"sk-text-repr-fallback\"><pre>OneHotEncoder()</pre><b>In a Jupyter environment, please rerun this cell to show the HTML representation or trust the notebook. <br />On GitHub, the HTML representation is unable to render, please try loading this page with nbviewer.org.</b></div><div class=\"sk-container\" hidden><div class=\"sk-item\"><div class=\"sk-estimator sk-toggleable\"><input class=\"sk-toggleable__control sk-hidden--visually\" id=\"sk-estimator-id-1\" type=\"checkbox\" checked><label for=\"sk-estimator-id-1\" class=\"sk-toggleable__label sk-toggleable__label-arrow\">OneHotEncoder</label><div class=\"sk-toggleable__content\"><pre>OneHotEncoder()</pre></div></div></div></div></div>"
      ],
      "text/plain": [
       "OneHotEncoder()"
      ]
     },
     "execution_count": 16,
     "metadata": {},
     "output_type": "execute_result"
    }
   ],
   "source": [
    "ohe = OneHotEncoder()\n",
    "ohe.fit(t20_df[['venue','bat_team','bowl_team']])"
   ]
  },
  {
   "cell_type": "code",
   "execution_count": 17,
   "id": "bcb2cae1-0388-4bac-97c2-ae4d2fdc4767",
   "metadata": {},
   "outputs": [],
   "source": [
    "column_trans=make_column_transformer((OneHotEncoder(categories=ohe.categories_),['venue','bat_team','bowl_team']),\n",
    "                                    remainder='passthrough')"
   ]
  },
  {
   "cell_type": "code",
   "execution_count": 18,
   "id": "ac63b653-c507-4285-bde6-c4a65f356580",
   "metadata": {},
   "outputs": [],
   "source": [
    "lr = LinearRegression()\n",
    "pipe = make_pipeline(column_trans,lr)"
   ]
  },
  {
   "cell_type": "code",
   "execution_count": 19,
   "id": "65daea92-569a-4490-bbfa-e0a9d0225ea7",
   "metadata": {},
   "outputs": [
    {
     "data": {
      "text/html": [
       "<style>#sk-container-id-2 {color: black;}#sk-container-id-2 pre{padding: 0;}#sk-container-id-2 div.sk-toggleable {background-color: white;}#sk-container-id-2 label.sk-toggleable__label {cursor: pointer;display: block;width: 100%;margin-bottom: 0;padding: 0.3em;box-sizing: border-box;text-align: center;}#sk-container-id-2 label.sk-toggleable__label-arrow:before {content: \"▸\";float: left;margin-right: 0.25em;color: #696969;}#sk-container-id-2 label.sk-toggleable__label-arrow:hover:before {color: black;}#sk-container-id-2 div.sk-estimator:hover label.sk-toggleable__label-arrow:before {color: black;}#sk-container-id-2 div.sk-toggleable__content {max-height: 0;max-width: 0;overflow: hidden;text-align: left;background-color: #f0f8ff;}#sk-container-id-2 div.sk-toggleable__content pre {margin: 0.2em;color: black;border-radius: 0.25em;background-color: #f0f8ff;}#sk-container-id-2 input.sk-toggleable__control:checked~div.sk-toggleable__content {max-height: 200px;max-width: 100%;overflow: auto;}#sk-container-id-2 input.sk-toggleable__control:checked~label.sk-toggleable__label-arrow:before {content: \"▾\";}#sk-container-id-2 div.sk-estimator input.sk-toggleable__control:checked~label.sk-toggleable__label {background-color: #d4ebff;}#sk-container-id-2 div.sk-label input.sk-toggleable__control:checked~label.sk-toggleable__label {background-color: #d4ebff;}#sk-container-id-2 input.sk-hidden--visually {border: 0;clip: rect(1px 1px 1px 1px);clip: rect(1px, 1px, 1px, 1px);height: 1px;margin: -1px;overflow: hidden;padding: 0;position: absolute;width: 1px;}#sk-container-id-2 div.sk-estimator {font-family: monospace;background-color: #f0f8ff;border: 1px dotted black;border-radius: 0.25em;box-sizing: border-box;margin-bottom: 0.5em;}#sk-container-id-2 div.sk-estimator:hover {background-color: #d4ebff;}#sk-container-id-2 div.sk-parallel-item::after {content: \"\";width: 100%;border-bottom: 1px solid gray;flex-grow: 1;}#sk-container-id-2 div.sk-label:hover label.sk-toggleable__label {background-color: #d4ebff;}#sk-container-id-2 div.sk-serial::before {content: \"\";position: absolute;border-left: 1px solid gray;box-sizing: border-box;top: 0;bottom: 0;left: 50%;z-index: 0;}#sk-container-id-2 div.sk-serial {display: flex;flex-direction: column;align-items: center;background-color: white;padding-right: 0.2em;padding-left: 0.2em;position: relative;}#sk-container-id-2 div.sk-item {position: relative;z-index: 1;}#sk-container-id-2 div.sk-parallel {display: flex;align-items: stretch;justify-content: center;background-color: white;position: relative;}#sk-container-id-2 div.sk-item::before, #sk-container-id-2 div.sk-parallel-item::before {content: \"\";position: absolute;border-left: 1px solid gray;box-sizing: border-box;top: 0;bottom: 0;left: 50%;z-index: -1;}#sk-container-id-2 div.sk-parallel-item {display: flex;flex-direction: column;z-index: 1;position: relative;background-color: white;}#sk-container-id-2 div.sk-parallel-item:first-child::after {align-self: flex-end;width: 50%;}#sk-container-id-2 div.sk-parallel-item:last-child::after {align-self: flex-start;width: 50%;}#sk-container-id-2 div.sk-parallel-item:only-child::after {width: 0;}#sk-container-id-2 div.sk-dashed-wrapped {border: 1px dashed gray;margin: 0 0.4em 0.5em 0.4em;box-sizing: border-box;padding-bottom: 0.4em;background-color: white;}#sk-container-id-2 div.sk-label label {font-family: monospace;font-weight: bold;display: inline-block;line-height: 1.2em;}#sk-container-id-2 div.sk-label-container {text-align: center;}#sk-container-id-2 div.sk-container {/* jupyter's `normalize.less` sets `[hidden] { display: none; }` but bootstrap.min.css set `[hidden] { display: none !important; }` so we also need the `!important` here to be able to override the default hidden behavior on the sphinx rendered scikit-learn.org. See: https://github.com/scikit-learn/scikit-learn/issues/21755 */display: inline-block !important;position: relative;}#sk-container-id-2 div.sk-text-repr-fallback {display: none;}</style><div id=\"sk-container-id-2\" class=\"sk-top-container\"><div class=\"sk-text-repr-fallback\"><pre>Pipeline(steps=[(&#x27;columntransformer&#x27;,\n",
       "                 ColumnTransformer(remainder=&#x27;passthrough&#x27;,\n",
       "                                   transformers=[(&#x27;onehotencoder&#x27;,\n",
       "                                                  OneHotEncoder(categories=[array([&#x27;AMI Stadium&#x27;, &#x27;Adelaide Oval&#x27;, &#x27;Arnos Vale Ground, Kingstown&#x27;,\n",
       "       &#x27;Barabati Stadium&#x27;, &#x27;Bay Oval&#x27;, &#x27;Beausejour Stadium, Gros Islet&#x27;,\n",
       "       &#x27;Bellerive Oval&#x27;, &#x27;Brabourne Stadium&#x27;,\n",
       "       &#x27;Brisbane Cricket Ground, Woolloongabba&#x27;,\n",
       "       &#x27;Central Broward Regio...\n",
       "                                                                            array([&#x27;Afghanistan&#x27;, &#x27;Australia&#x27;, &#x27;Bangladesh&#x27;, &#x27;England&#x27;, &#x27;India&#x27;,\n",
       "       &#x27;New Zealand&#x27;, &#x27;Pakistan&#x27;, &#x27;South Africa&#x27;, &#x27;Sri Lanka&#x27;,\n",
       "       &#x27;West Indies&#x27;], dtype=object),\n",
       "                                                                            array([&#x27;Afghanistan&#x27;, &#x27;Australia&#x27;, &#x27;Bangladesh&#x27;, &#x27;England&#x27;, &#x27;India&#x27;,\n",
       "       &#x27;New Zealand&#x27;, &#x27;Pakistan&#x27;, &#x27;South Africa&#x27;, &#x27;Sri Lanka&#x27;,\n",
       "       &#x27;West Indies&#x27;], dtype=object)]),\n",
       "                                                  [&#x27;venue&#x27;, &#x27;bat_team&#x27;,\n",
       "                                                   &#x27;bowl_team&#x27;])])),\n",
       "                (&#x27;linearregression&#x27;, LinearRegression())])</pre><b>In a Jupyter environment, please rerun this cell to show the HTML representation or trust the notebook. <br />On GitHub, the HTML representation is unable to render, please try loading this page with nbviewer.org.</b></div><div class=\"sk-container\" hidden><div class=\"sk-item sk-dashed-wrapped\"><div class=\"sk-label-container\"><div class=\"sk-label sk-toggleable\"><input class=\"sk-toggleable__control sk-hidden--visually\" id=\"sk-estimator-id-2\" type=\"checkbox\" ><label for=\"sk-estimator-id-2\" class=\"sk-toggleable__label sk-toggleable__label-arrow\">Pipeline</label><div class=\"sk-toggleable__content\"><pre>Pipeline(steps=[(&#x27;columntransformer&#x27;,\n",
       "                 ColumnTransformer(remainder=&#x27;passthrough&#x27;,\n",
       "                                   transformers=[(&#x27;onehotencoder&#x27;,\n",
       "                                                  OneHotEncoder(categories=[array([&#x27;AMI Stadium&#x27;, &#x27;Adelaide Oval&#x27;, &#x27;Arnos Vale Ground, Kingstown&#x27;,\n",
       "       &#x27;Barabati Stadium&#x27;, &#x27;Bay Oval&#x27;, &#x27;Beausejour Stadium, Gros Islet&#x27;,\n",
       "       &#x27;Bellerive Oval&#x27;, &#x27;Brabourne Stadium&#x27;,\n",
       "       &#x27;Brisbane Cricket Ground, Woolloongabba&#x27;,\n",
       "       &#x27;Central Broward Regio...\n",
       "                                                                            array([&#x27;Afghanistan&#x27;, &#x27;Australia&#x27;, &#x27;Bangladesh&#x27;, &#x27;England&#x27;, &#x27;India&#x27;,\n",
       "       &#x27;New Zealand&#x27;, &#x27;Pakistan&#x27;, &#x27;South Africa&#x27;, &#x27;Sri Lanka&#x27;,\n",
       "       &#x27;West Indies&#x27;], dtype=object),\n",
       "                                                                            array([&#x27;Afghanistan&#x27;, &#x27;Australia&#x27;, &#x27;Bangladesh&#x27;, &#x27;England&#x27;, &#x27;India&#x27;,\n",
       "       &#x27;New Zealand&#x27;, &#x27;Pakistan&#x27;, &#x27;South Africa&#x27;, &#x27;Sri Lanka&#x27;,\n",
       "       &#x27;West Indies&#x27;], dtype=object)]),\n",
       "                                                  [&#x27;venue&#x27;, &#x27;bat_team&#x27;,\n",
       "                                                   &#x27;bowl_team&#x27;])])),\n",
       "                (&#x27;linearregression&#x27;, LinearRegression())])</pre></div></div></div><div class=\"sk-serial\"><div class=\"sk-item sk-dashed-wrapped\"><div class=\"sk-label-container\"><div class=\"sk-label sk-toggleable\"><input class=\"sk-toggleable__control sk-hidden--visually\" id=\"sk-estimator-id-3\" type=\"checkbox\" ><label for=\"sk-estimator-id-3\" class=\"sk-toggleable__label sk-toggleable__label-arrow\">columntransformer: ColumnTransformer</label><div class=\"sk-toggleable__content\"><pre>ColumnTransformer(remainder=&#x27;passthrough&#x27;,\n",
       "                  transformers=[(&#x27;onehotencoder&#x27;,\n",
       "                                 OneHotEncoder(categories=[array([&#x27;AMI Stadium&#x27;, &#x27;Adelaide Oval&#x27;, &#x27;Arnos Vale Ground, Kingstown&#x27;,\n",
       "       &#x27;Barabati Stadium&#x27;, &#x27;Bay Oval&#x27;, &#x27;Beausejour Stadium, Gros Islet&#x27;,\n",
       "       &#x27;Bellerive Oval&#x27;, &#x27;Brabourne Stadium&#x27;,\n",
       "       &#x27;Brisbane Cricket Ground, Woolloongabba&#x27;,\n",
       "       &#x27;Central Broward Regional Park Stadium Turf Ground&#x27;,\n",
       "       &#x27;County Grou...\n",
       "       &#x27;Windsor Park, Roseau&#x27;, &#x27;Zahur Ahmed Chowdhury Stadium&#x27;],\n",
       "      dtype=object),\n",
       "                                                           array([&#x27;Afghanistan&#x27;, &#x27;Australia&#x27;, &#x27;Bangladesh&#x27;, &#x27;England&#x27;, &#x27;India&#x27;,\n",
       "       &#x27;New Zealand&#x27;, &#x27;Pakistan&#x27;, &#x27;South Africa&#x27;, &#x27;Sri Lanka&#x27;,\n",
       "       &#x27;West Indies&#x27;], dtype=object),\n",
       "                                                           array([&#x27;Afghanistan&#x27;, &#x27;Australia&#x27;, &#x27;Bangladesh&#x27;, &#x27;England&#x27;, &#x27;India&#x27;,\n",
       "       &#x27;New Zealand&#x27;, &#x27;Pakistan&#x27;, &#x27;South Africa&#x27;, &#x27;Sri Lanka&#x27;,\n",
       "       &#x27;West Indies&#x27;], dtype=object)]),\n",
       "                                 [&#x27;venue&#x27;, &#x27;bat_team&#x27;, &#x27;bowl_team&#x27;])])</pre></div></div></div><div class=\"sk-parallel\"><div class=\"sk-parallel-item\"><div class=\"sk-item\"><div class=\"sk-label-container\"><div class=\"sk-label sk-toggleable\"><input class=\"sk-toggleable__control sk-hidden--visually\" id=\"sk-estimator-id-4\" type=\"checkbox\" ><label for=\"sk-estimator-id-4\" class=\"sk-toggleable__label sk-toggleable__label-arrow\">onehotencoder</label><div class=\"sk-toggleable__content\"><pre>[&#x27;venue&#x27;, &#x27;bat_team&#x27;, &#x27;bowl_team&#x27;]</pre></div></div></div><div class=\"sk-serial\"><div class=\"sk-item\"><div class=\"sk-estimator sk-toggleable\"><input class=\"sk-toggleable__control sk-hidden--visually\" id=\"sk-estimator-id-5\" type=\"checkbox\" ><label for=\"sk-estimator-id-5\" class=\"sk-toggleable__label sk-toggleable__label-arrow\">OneHotEncoder</label><div class=\"sk-toggleable__content\"><pre>OneHotEncoder(categories=[array([&#x27;AMI Stadium&#x27;, &#x27;Adelaide Oval&#x27;, &#x27;Arnos Vale Ground, Kingstown&#x27;,\n",
       "       &#x27;Barabati Stadium&#x27;, &#x27;Bay Oval&#x27;, &#x27;Beausejour Stadium, Gros Islet&#x27;,\n",
       "       &#x27;Bellerive Oval&#x27;, &#x27;Brabourne Stadium&#x27;,\n",
       "       &#x27;Brisbane Cricket Ground, Woolloongabba&#x27;,\n",
       "       &#x27;Central Broward Regional Park Stadium Turf Ground&#x27;,\n",
       "       &#x27;County Ground&#x27;,\n",
       "       &#x27;Dr. Y.S. Rajasekhara Reddy ACA-VDCA Cricket Stadium&#x27;,\n",
       "       &#x27;Dubai International Cr...\n",
       "       &#x27;Western Australia Cricket Association Ground&#x27;, &#x27;Westpac Stadium&#x27;,\n",
       "       &#x27;Windsor Park, Roseau&#x27;, &#x27;Zahur Ahmed Chowdhury Stadium&#x27;],\n",
       "      dtype=object),\n",
       "                          array([&#x27;Afghanistan&#x27;, &#x27;Australia&#x27;, &#x27;Bangladesh&#x27;, &#x27;England&#x27;, &#x27;India&#x27;,\n",
       "       &#x27;New Zealand&#x27;, &#x27;Pakistan&#x27;, &#x27;South Africa&#x27;, &#x27;Sri Lanka&#x27;,\n",
       "       &#x27;West Indies&#x27;], dtype=object),\n",
       "                          array([&#x27;Afghanistan&#x27;, &#x27;Australia&#x27;, &#x27;Bangladesh&#x27;, &#x27;England&#x27;, &#x27;India&#x27;,\n",
       "       &#x27;New Zealand&#x27;, &#x27;Pakistan&#x27;, &#x27;South Africa&#x27;, &#x27;Sri Lanka&#x27;,\n",
       "       &#x27;West Indies&#x27;], dtype=object)])</pre></div></div></div></div></div></div><div class=\"sk-parallel-item\"><div class=\"sk-item\"><div class=\"sk-label-container\"><div class=\"sk-label sk-toggleable\"><input class=\"sk-toggleable__control sk-hidden--visually\" id=\"sk-estimator-id-6\" type=\"checkbox\" ><label for=\"sk-estimator-id-6\" class=\"sk-toggleable__label sk-toggleable__label-arrow\">remainder</label><div class=\"sk-toggleable__content\"><pre>[&#x27;runs&#x27;, &#x27;wickets&#x27;, &#x27;overs&#x27;, &#x27;runs_last_5&#x27;, &#x27;wickets_last_5&#x27;]</pre></div></div></div><div class=\"sk-serial\"><div class=\"sk-item\"><div class=\"sk-estimator sk-toggleable\"><input class=\"sk-toggleable__control sk-hidden--visually\" id=\"sk-estimator-id-7\" type=\"checkbox\" ><label for=\"sk-estimator-id-7\" class=\"sk-toggleable__label sk-toggleable__label-arrow\">passthrough</label><div class=\"sk-toggleable__content\"><pre>passthrough</pre></div></div></div></div></div></div></div></div><div class=\"sk-item\"><div class=\"sk-estimator sk-toggleable\"><input class=\"sk-toggleable__control sk-hidden--visually\" id=\"sk-estimator-id-8\" type=\"checkbox\" ><label for=\"sk-estimator-id-8\" class=\"sk-toggleable__label sk-toggleable__label-arrow\">LinearRegression</label><div class=\"sk-toggleable__content\"><pre>LinearRegression()</pre></div></div></div></div></div></div></div>"
      ],
      "text/plain": [
       "Pipeline(steps=[('columntransformer',\n",
       "                 ColumnTransformer(remainder='passthrough',\n",
       "                                   transformers=[('onehotencoder',\n",
       "                                                  OneHotEncoder(categories=[array(['AMI Stadium', 'Adelaide Oval', 'Arnos Vale Ground, Kingstown',\n",
       "       'Barabati Stadium', 'Bay Oval', 'Beausejour Stadium, Gros Islet',\n",
       "       'Bellerive Oval', 'Brabourne Stadium',\n",
       "       'Brisbane Cricket Ground, Woolloongabba',\n",
       "       'Central Broward Regio...\n",
       "                                                                            array(['Afghanistan', 'Australia', 'Bangladesh', 'England', 'India',\n",
       "       'New Zealand', 'Pakistan', 'South Africa', 'Sri Lanka',\n",
       "       'West Indies'], dtype=object),\n",
       "                                                                            array(['Afghanistan', 'Australia', 'Bangladesh', 'England', 'India',\n",
       "       'New Zealand', 'Pakistan', 'South Africa', 'Sri Lanka',\n",
       "       'West Indies'], dtype=object)]),\n",
       "                                                  ['venue', 'bat_team',\n",
       "                                                   'bowl_team'])])),\n",
       "                ('linearregression', LinearRegression())])"
      ]
     },
     "execution_count": 19,
     "metadata": {},
     "output_type": "execute_result"
    }
   ],
   "source": [
    "pipe.fit(X_train, y_train)"
   ]
  },
  {
   "cell_type": "code",
   "execution_count": 20,
   "id": "b9232ff7-b2eb-4552-b139-0810a2c41b39",
   "metadata": {},
   "outputs": [],
   "source": [
    "y_pred = pipe.predict(X_test)"
   ]
  },
  {
   "cell_type": "code",
   "execution_count": 21,
   "id": "3aa3aaec-a083-4192-a018-e9a60e01ff36",
   "metadata": {},
   "outputs": [
    {
     "data": {
      "text/plain": [
       "0.7391531397474085"
      ]
     },
     "execution_count": 21,
     "metadata": {},
     "output_type": "execute_result"
    }
   ],
   "source": [
    "r2_score(y_test,y_pred)"
   ]
  },
  {
   "cell_type": "code",
   "execution_count": 22,
   "id": "2c6e3e59-5e6a-444c-a65f-3699d6c34bfb",
   "metadata": {},
   "outputs": [],
   "source": [
    "# # Creating a pickle file for the classifier\n",
    "# import pickle\n",
    "# filename = 't20i_model.pkl'\n",
    "# pickle.dump(pipe, open(filename, 'wb'))"
   ]
  },
  {
   "cell_type": "code",
   "execution_count": null,
   "id": "039ac680-1dd2-4b7b-9641-9bdc45f3898f",
   "metadata": {},
   "outputs": [],
   "source": []
  }
 ],
 "metadata": {
  "kernelspec": {
   "display_name": "Python 3 (ipykernel)",
   "language": "python",
   "name": "python3"
  },
  "language_info": {
   "codemirror_mode": {
    "name": "ipython",
    "version": 3
   },
   "file_extension": ".py",
   "mimetype": "text/x-python",
   "name": "python",
   "nbconvert_exporter": "python",
   "pygments_lexer": "ipython3",
   "version": "3.11.5"
  }
 },
 "nbformat": 4,
 "nbformat_minor": 5
}
