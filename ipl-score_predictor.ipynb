{
 "cells": [
  {
   "cell_type": "code",
   "execution_count": 1,
   "id": "3ea7d03d-c38d-4785-9016-78c95b549f83",
   "metadata": {},
   "outputs": [],
   "source": [
    "import pandas as pd\n",
    "import numpy as np"
   ]
  },
  {
   "cell_type": "code",
   "execution_count": 2,
   "id": "4f9a82d0-48c7-4147-8024-01e8d2edbcea",
   "metadata": {},
   "outputs": [],
   "source": [
    "ipl_df = pd.read_csv('ipl.csv')"
   ]
  },
  {
   "cell_type": "code",
   "execution_count": 3,
   "id": "1f0b39af-9e16-4727-be21-7c05d35ffffd",
   "metadata": {},
   "outputs": [
    {
     "data": {
      "text/html": [
       "<div>\n",
       "<style scoped>\n",
       "    .dataframe tbody tr th:only-of-type {\n",
       "        vertical-align: middle;\n",
       "    }\n",
       "\n",
       "    .dataframe tbody tr th {\n",
       "        vertical-align: top;\n",
       "    }\n",
       "\n",
       "    .dataframe thead th {\n",
       "        text-align: right;\n",
       "    }\n",
       "</style>\n",
       "<table border=\"1\" class=\"dataframe\">\n",
       "  <thead>\n",
       "    <tr style=\"text-align: right;\">\n",
       "      <th></th>\n",
       "      <th>mid</th>\n",
       "      <th>date</th>\n",
       "      <th>venue</th>\n",
       "      <th>bat_team</th>\n",
       "      <th>bowl_team</th>\n",
       "      <th>batsman</th>\n",
       "      <th>bowler</th>\n",
       "      <th>runs</th>\n",
       "      <th>wickets</th>\n",
       "      <th>overs</th>\n",
       "      <th>runs_last_5</th>\n",
       "      <th>wickets_last_5</th>\n",
       "      <th>striker</th>\n",
       "      <th>non-striker</th>\n",
       "      <th>total</th>\n",
       "    </tr>\n",
       "  </thead>\n",
       "  <tbody>\n",
       "    <tr>\n",
       "      <th>0</th>\n",
       "      <td>1</td>\n",
       "      <td>2008-04-18</td>\n",
       "      <td>M Chinnaswamy Stadium</td>\n",
       "      <td>Kolkata Knight Riders</td>\n",
       "      <td>Royal Challengers Bangalore</td>\n",
       "      <td>SC Ganguly</td>\n",
       "      <td>P Kumar</td>\n",
       "      <td>1</td>\n",
       "      <td>0</td>\n",
       "      <td>0.1</td>\n",
       "      <td>1</td>\n",
       "      <td>0</td>\n",
       "      <td>0</td>\n",
       "      <td>0</td>\n",
       "      <td>222</td>\n",
       "    </tr>\n",
       "    <tr>\n",
       "      <th>1</th>\n",
       "      <td>1</td>\n",
       "      <td>2008-04-18</td>\n",
       "      <td>M Chinnaswamy Stadium</td>\n",
       "      <td>Kolkata Knight Riders</td>\n",
       "      <td>Royal Challengers Bangalore</td>\n",
       "      <td>BB McCullum</td>\n",
       "      <td>P Kumar</td>\n",
       "      <td>1</td>\n",
       "      <td>0</td>\n",
       "      <td>0.2</td>\n",
       "      <td>1</td>\n",
       "      <td>0</td>\n",
       "      <td>0</td>\n",
       "      <td>0</td>\n",
       "      <td>222</td>\n",
       "    </tr>\n",
       "    <tr>\n",
       "      <th>2</th>\n",
       "      <td>1</td>\n",
       "      <td>2008-04-18</td>\n",
       "      <td>M Chinnaswamy Stadium</td>\n",
       "      <td>Kolkata Knight Riders</td>\n",
       "      <td>Royal Challengers Bangalore</td>\n",
       "      <td>BB McCullum</td>\n",
       "      <td>P Kumar</td>\n",
       "      <td>2</td>\n",
       "      <td>0</td>\n",
       "      <td>0.2</td>\n",
       "      <td>2</td>\n",
       "      <td>0</td>\n",
       "      <td>0</td>\n",
       "      <td>0</td>\n",
       "      <td>222</td>\n",
       "    </tr>\n",
       "    <tr>\n",
       "      <th>3</th>\n",
       "      <td>1</td>\n",
       "      <td>2008-04-18</td>\n",
       "      <td>M Chinnaswamy Stadium</td>\n",
       "      <td>Kolkata Knight Riders</td>\n",
       "      <td>Royal Challengers Bangalore</td>\n",
       "      <td>BB McCullum</td>\n",
       "      <td>P Kumar</td>\n",
       "      <td>2</td>\n",
       "      <td>0</td>\n",
       "      <td>0.3</td>\n",
       "      <td>2</td>\n",
       "      <td>0</td>\n",
       "      <td>0</td>\n",
       "      <td>0</td>\n",
       "      <td>222</td>\n",
       "    </tr>\n",
       "    <tr>\n",
       "      <th>4</th>\n",
       "      <td>1</td>\n",
       "      <td>2008-04-18</td>\n",
       "      <td>M Chinnaswamy Stadium</td>\n",
       "      <td>Kolkata Knight Riders</td>\n",
       "      <td>Royal Challengers Bangalore</td>\n",
       "      <td>BB McCullum</td>\n",
       "      <td>P Kumar</td>\n",
       "      <td>2</td>\n",
       "      <td>0</td>\n",
       "      <td>0.4</td>\n",
       "      <td>2</td>\n",
       "      <td>0</td>\n",
       "      <td>0</td>\n",
       "      <td>0</td>\n",
       "      <td>222</td>\n",
       "    </tr>\n",
       "  </tbody>\n",
       "</table>\n",
       "</div>"
      ],
      "text/plain": [
       "   mid        date                  venue               bat_team  \\\n",
       "0    1  2008-04-18  M Chinnaswamy Stadium  Kolkata Knight Riders   \n",
       "1    1  2008-04-18  M Chinnaswamy Stadium  Kolkata Knight Riders   \n",
       "2    1  2008-04-18  M Chinnaswamy Stadium  Kolkata Knight Riders   \n",
       "3    1  2008-04-18  M Chinnaswamy Stadium  Kolkata Knight Riders   \n",
       "4    1  2008-04-18  M Chinnaswamy Stadium  Kolkata Knight Riders   \n",
       "\n",
       "                     bowl_team      batsman   bowler  runs  wickets  overs  \\\n",
       "0  Royal Challengers Bangalore   SC Ganguly  P Kumar     1        0    0.1   \n",
       "1  Royal Challengers Bangalore  BB McCullum  P Kumar     1        0    0.2   \n",
       "2  Royal Challengers Bangalore  BB McCullum  P Kumar     2        0    0.2   \n",
       "3  Royal Challengers Bangalore  BB McCullum  P Kumar     2        0    0.3   \n",
       "4  Royal Challengers Bangalore  BB McCullum  P Kumar     2        0    0.4   \n",
       "\n",
       "   runs_last_5  wickets_last_5  striker  non-striker  total  \n",
       "0            1               0        0            0    222  \n",
       "1            1               0        0            0    222  \n",
       "2            2               0        0            0    222  \n",
       "3            2               0        0            0    222  \n",
       "4            2               0        0            0    222  "
      ]
     },
     "execution_count": 3,
     "metadata": {},
     "output_type": "execute_result"
    }
   ],
   "source": [
    "ipl_df.head()"
   ]
  },
  {
   "cell_type": "code",
   "execution_count": 4,
   "id": "5defb354-66e3-416e-a4cd-fef780efa091",
   "metadata": {},
   "outputs": [
    {
     "data": {
      "text/plain": [
       "(76014, 15)"
      ]
     },
     "execution_count": 4,
     "metadata": {},
     "output_type": "execute_result"
    }
   ],
   "source": [
    "ipl_df.shape"
   ]
  },
  {
   "cell_type": "code",
   "execution_count": 5,
   "id": "85cffb6f-33d5-4a94-baa5-e41cc3214daf",
   "metadata": {},
   "outputs": [
    {
     "data": {
      "text/plain": [
       "array(['M Chinnaswamy Stadium',\n",
       "       'Punjab Cricket Association Stadium, Mohali', 'Feroz Shah Kotla',\n",
       "       'Wankhede Stadium', 'Eden Gardens', 'Sawai Mansingh Stadium',\n",
       "       'Rajiv Gandhi International Stadium, Uppal',\n",
       "       'MA Chidambaram Stadium, Chepauk', 'Dr DY Patil Sports Academy',\n",
       "       'Newlands', \"St George's Park\", 'Kingsmead', 'SuperSport Park',\n",
       "       'Buffalo Park', 'New Wanderers Stadium', 'De Beers Diamond Oval',\n",
       "       'OUTsurance Oval', 'Brabourne Stadium',\n",
       "       'Sardar Patel Stadium, Motera', 'Barabati Stadium',\n",
       "       'Vidarbha Cricket Association Stadium, Jamtha',\n",
       "       'Himachal Pradesh Cricket Association Stadium', 'Nehru Stadium',\n",
       "       'Holkar Cricket Stadium',\n",
       "       'Dr. Y.S. Rajasekhara Reddy ACA-VDCA Cricket Stadium',\n",
       "       'Subrata Roy Sahara Stadium',\n",
       "       'Shaheed Veer Narayan Singh International Stadium',\n",
       "       'JSCA International Stadium Complex', 'Sheikh Zayed Stadium',\n",
       "       'Sharjah Cricket Stadium', 'Dubai International Cricket Stadium',\n",
       "       'Maharashtra Cricket Association Stadium',\n",
       "       'Punjab Cricket Association IS Bindra Stadium, Mohali',\n",
       "       'Saurashtra Cricket Association Stadium', 'Green Park'],\n",
       "      dtype=object)"
      ]
     },
     "execution_count": 5,
     "metadata": {},
     "output_type": "execute_result"
    }
   ],
   "source": [
    "ipl_df['venue'].unique()"
   ]
  },
  {
   "cell_type": "code",
   "execution_count": 6,
   "id": "558ae6f3-462b-465e-986b-f6b43e42beab",
   "metadata": {},
   "outputs": [],
   "source": [
    "odi_data = pd.read_csv('odi.csv')"
   ]
  },
  {
   "cell_type": "code",
   "execution_count": 7,
   "id": "f9ced1e0-e42b-4c2c-8b5a-a406cd9248fb",
   "metadata": {},
   "outputs": [],
   "source": [
    "# odi_data.head()"
   ]
  },
  {
   "cell_type": "code",
   "execution_count": 8,
   "id": "711020a7-ee8a-4967-b6fc-eb3a5b259932",
   "metadata": {},
   "outputs": [],
   "source": [
    "# odi_data.shape"
   ]
  },
  {
   "cell_type": "code",
   "execution_count": 9,
   "id": "4eb989cd-eebe-4c10-9717-b1b62f8ed288",
   "metadata": {},
   "outputs": [],
   "source": [
    "t20_data = pd.read_csv('t20.csv')"
   ]
  },
  {
   "cell_type": "code",
   "execution_count": 10,
   "id": "776f67cb-3e85-4121-8691-5ef8b0a14849",
   "metadata": {},
   "outputs": [],
   "source": [
    "# t20_data.head()"
   ]
  },
  {
   "cell_type": "code",
   "execution_count": 11,
   "id": "8826f8e8-3371-4bed-a808-12fb986b6ee3",
   "metadata": {},
   "outputs": [],
   "source": [
    "# t20_data.shape"
   ]
  },
  {
   "cell_type": "code",
   "execution_count": 12,
   "id": "9d5f855b-e257-4125-90c7-d7d4e59f972e",
   "metadata": {},
   "outputs": [],
   "source": [
    "# t20_data[\"venue\"].unique()"
   ]
  },
  {
   "cell_type": "code",
   "execution_count": 13,
   "id": "65c815fa-e4cd-47d5-b5a2-cec985984b17",
   "metadata": {},
   "outputs": [],
   "source": [
    "# ipl_data[\"venue\"].unique()"
   ]
  },
  {
   "cell_type": "code",
   "execution_count": 14,
   "id": "6b19e425-609c-4c46-ab03-9114e46dfe8e",
   "metadata": {},
   "outputs": [],
   "source": [
    "# odi_data[\"venue\"].unique()"
   ]
  },
  {
   "cell_type": "code",
   "execution_count": 15,
   "id": "c2e5d8d1-9fda-42be-aeb3-2131ba91b2e1",
   "metadata": {},
   "outputs": [],
   "source": [
    "# --- Data Cleaning ---\n",
    "# Removing unwanted columns\n",
    "columns_to_remove = ['mid', 'date', 'batsman', 'bowler', 'striker', 'non-striker']\n",
    "ipl_df.drop(labels=columns_to_remove, axis=1, inplace=True)"
   ]
  },
  {
   "cell_type": "code",
   "execution_count": 16,
   "id": "c0e5963e-9ef2-4f29-b61d-646dae15a918",
   "metadata": {},
   "outputs": [
    {
     "data": {
      "text/html": [
       "<div>\n",
       "<style scoped>\n",
       "    .dataframe tbody tr th:only-of-type {\n",
       "        vertical-align: middle;\n",
       "    }\n",
       "\n",
       "    .dataframe tbody tr th {\n",
       "        vertical-align: top;\n",
       "    }\n",
       "\n",
       "    .dataframe thead th {\n",
       "        text-align: right;\n",
       "    }\n",
       "</style>\n",
       "<table border=\"1\" class=\"dataframe\">\n",
       "  <thead>\n",
       "    <tr style=\"text-align: right;\">\n",
       "      <th></th>\n",
       "      <th>venue</th>\n",
       "      <th>bat_team</th>\n",
       "      <th>bowl_team</th>\n",
       "      <th>runs</th>\n",
       "      <th>wickets</th>\n",
       "      <th>overs</th>\n",
       "      <th>runs_last_5</th>\n",
       "      <th>wickets_last_5</th>\n",
       "      <th>total</th>\n",
       "    </tr>\n",
       "  </thead>\n",
       "  <tbody>\n",
       "    <tr>\n",
       "      <th>0</th>\n",
       "      <td>M Chinnaswamy Stadium</td>\n",
       "      <td>Kolkata Knight Riders</td>\n",
       "      <td>Royal Challengers Bangalore</td>\n",
       "      <td>1</td>\n",
       "      <td>0</td>\n",
       "      <td>0.1</td>\n",
       "      <td>1</td>\n",
       "      <td>0</td>\n",
       "      <td>222</td>\n",
       "    </tr>\n",
       "    <tr>\n",
       "      <th>1</th>\n",
       "      <td>M Chinnaswamy Stadium</td>\n",
       "      <td>Kolkata Knight Riders</td>\n",
       "      <td>Royal Challengers Bangalore</td>\n",
       "      <td>1</td>\n",
       "      <td>0</td>\n",
       "      <td>0.2</td>\n",
       "      <td>1</td>\n",
       "      <td>0</td>\n",
       "      <td>222</td>\n",
       "    </tr>\n",
       "    <tr>\n",
       "      <th>2</th>\n",
       "      <td>M Chinnaswamy Stadium</td>\n",
       "      <td>Kolkata Knight Riders</td>\n",
       "      <td>Royal Challengers Bangalore</td>\n",
       "      <td>2</td>\n",
       "      <td>0</td>\n",
       "      <td>0.2</td>\n",
       "      <td>2</td>\n",
       "      <td>0</td>\n",
       "      <td>222</td>\n",
       "    </tr>\n",
       "    <tr>\n",
       "      <th>3</th>\n",
       "      <td>M Chinnaswamy Stadium</td>\n",
       "      <td>Kolkata Knight Riders</td>\n",
       "      <td>Royal Challengers Bangalore</td>\n",
       "      <td>2</td>\n",
       "      <td>0</td>\n",
       "      <td>0.3</td>\n",
       "      <td>2</td>\n",
       "      <td>0</td>\n",
       "      <td>222</td>\n",
       "    </tr>\n",
       "    <tr>\n",
       "      <th>4</th>\n",
       "      <td>M Chinnaswamy Stadium</td>\n",
       "      <td>Kolkata Knight Riders</td>\n",
       "      <td>Royal Challengers Bangalore</td>\n",
       "      <td>2</td>\n",
       "      <td>0</td>\n",
       "      <td>0.4</td>\n",
       "      <td>2</td>\n",
       "      <td>0</td>\n",
       "      <td>222</td>\n",
       "    </tr>\n",
       "  </tbody>\n",
       "</table>\n",
       "</div>"
      ],
      "text/plain": [
       "                   venue               bat_team                    bowl_team  \\\n",
       "0  M Chinnaswamy Stadium  Kolkata Knight Riders  Royal Challengers Bangalore   \n",
       "1  M Chinnaswamy Stadium  Kolkata Knight Riders  Royal Challengers Bangalore   \n",
       "2  M Chinnaswamy Stadium  Kolkata Knight Riders  Royal Challengers Bangalore   \n",
       "3  M Chinnaswamy Stadium  Kolkata Knight Riders  Royal Challengers Bangalore   \n",
       "4  M Chinnaswamy Stadium  Kolkata Knight Riders  Royal Challengers Bangalore   \n",
       "\n",
       "   runs  wickets  overs  runs_last_5  wickets_last_5  total  \n",
       "0     1        0    0.1            1               0    222  \n",
       "1     1        0    0.2            1               0    222  \n",
       "2     2        0    0.2            2               0    222  \n",
       "3     2        0    0.3            2               0    222  \n",
       "4     2        0    0.4            2               0    222  "
      ]
     },
     "execution_count": 16,
     "metadata": {},
     "output_type": "execute_result"
    }
   ],
   "source": [
    "ipl_df.head()"
   ]
  },
  {
   "cell_type": "code",
   "execution_count": 17,
   "id": "af749039-b8d3-4b4f-bcbb-9c6887ad5063",
   "metadata": {},
   "outputs": [
    {
     "data": {
      "text/plain": [
       "array(['Kolkata Knight Riders', 'Chennai Super Kings', 'Rajasthan Royals',\n",
       "       'Mumbai Indians', 'Deccan Chargers', 'Kings XI Punjab',\n",
       "       'Royal Challengers Bangalore', 'Delhi Daredevils',\n",
       "       'Kochi Tuskers Kerala', 'Pune Warriors', 'Sunrisers Hyderabad',\n",
       "       'Rising Pune Supergiants', 'Gujarat Lions',\n",
       "       'Rising Pune Supergiant'], dtype=object)"
      ]
     },
     "execution_count": 17,
     "metadata": {},
     "output_type": "execute_result"
    }
   ],
   "source": [
    "ipl_df[\"bat_team\"].unique()"
   ]
  },
  {
   "cell_type": "code",
   "execution_count": 18,
   "id": "e9034ae4-2ba2-460e-804f-bb8bea2a5cd9",
   "metadata": {},
   "outputs": [],
   "source": [
    "ipl_teams = ['Kolkata Knight Riders', 'Chennai Super Kings', 'Rajasthan Royals',\n",
    "             'Mumbai Indians', 'Punjab Kings', 'Royal Challengers Bangalore', \n",
    "             'Delhi Capitals', 'Sunrisers Hyderabad']"
   ]
  },
  {
   "cell_type": "code",
   "execution_count": 19,
   "id": "ff6e801c-2152-4e84-abc4-6ac2b970bbc8",
   "metadata": {},
   "outputs": [],
   "source": [
    "ipl_df['bat_team'] = ipl_df['bat_team'].str.replace('Delhi Daredevils','Delhi Capitals')\n",
    "ipl_df['bowl_team'] = ipl_df['bowl_team'].str.replace('Delhi Daredevils','Delhi Capitals')\n",
    "\n",
    "ipl_df['bat_team'] = ipl_df['bat_team'].str.replace('Deccan Chargers','Sunrisers Hyderabad')\n",
    "ipl_df['bowl_team'] = ipl_df['bowl_team'].str.replace('Deccan Chargers','Sunrisers Hyderabad')\n",
    "\n",
    "ipl_df['bat_team'] = ipl_df['bat_team'].str.replace('Kings XI Punjab','Punjab Kings')\n",
    "ipl_df['bowl_team'] = ipl_df['bowl_team'].str.replace('Kings XI Punjab','Punjab Kings')"
   ]
  },
  {
   "cell_type": "code",
   "execution_count": 20,
   "id": "eb97bd9b-255a-40fd-bb63-4ea88e11c8fd",
   "metadata": {},
   "outputs": [],
   "source": [
    "ipl_df = ipl_df[ipl_df['bat_team'].isin(ipl_teams)]\n",
    "ipl_df = ipl_df[ipl_df['bowl_team'].isin(ipl_teams)]"
   ]
  },
  {
   "cell_type": "code",
   "execution_count": 21,
   "id": "0149ffb0-c490-4f7d-8acf-e1d02853eb84",
   "metadata": {},
   "outputs": [
    {
     "data": {
      "text/plain": [
       "(62464, 9)"
      ]
     },
     "execution_count": 21,
     "metadata": {},
     "output_type": "execute_result"
    }
   ],
   "source": [
    "ipl_df.shape"
   ]
  },
  {
   "cell_type": "code",
   "execution_count": 22,
   "id": "8b9c968f-bea7-451f-a177-9cc5e3369bd9",
   "metadata": {},
   "outputs": [
    {
     "name": "stdout",
     "output_type": "stream",
     "text": [
      "['Kolkata Knight Riders' 'Chennai Super Kings' 'Rajasthan Royals'\n",
      " 'Mumbai Indians' 'Sunrisers Hyderabad' 'Punjab Kings'\n",
      " 'Royal Challengers Bangalore' 'Delhi Capitals']\n",
      "['Royal Challengers Bangalore' 'Punjab Kings' 'Delhi Capitals'\n",
      " 'Kolkata Knight Riders' 'Rajasthan Royals' 'Mumbai Indians'\n",
      " 'Chennai Super Kings' 'Sunrisers Hyderabad']\n"
     ]
    }
   ],
   "source": [
    "print(ipl_df['bat_team'].unique())\n",
    "print(ipl_df['bowl_team'].unique())"
   ]
  },
  {
   "cell_type": "code",
   "execution_count": 23,
   "id": "3ca67339-e9d9-4ef7-949b-5d299021d8c9",
   "metadata": {},
   "outputs": [],
   "source": [
    "# Removing the first 5 overs data in every match\n",
    "ipl_df = ipl_df[ipl_df['overs']>=5.0]"
   ]
  },
  {
   "cell_type": "code",
   "execution_count": 24,
   "id": "2219f67d-76be-468d-bc4b-2cd39c343669",
   "metadata": {},
   "outputs": [
    {
     "data": {
      "text/html": [
       "<div>\n",
       "<style scoped>\n",
       "    .dataframe tbody tr th:only-of-type {\n",
       "        vertical-align: middle;\n",
       "    }\n",
       "\n",
       "    .dataframe tbody tr th {\n",
       "        vertical-align: top;\n",
       "    }\n",
       "\n",
       "    .dataframe thead th {\n",
       "        text-align: right;\n",
       "    }\n",
       "</style>\n",
       "<table border=\"1\" class=\"dataframe\">\n",
       "  <thead>\n",
       "    <tr style=\"text-align: right;\">\n",
       "      <th></th>\n",
       "      <th>venue</th>\n",
       "      <th>bat_team</th>\n",
       "      <th>bowl_team</th>\n",
       "      <th>runs</th>\n",
       "      <th>wickets</th>\n",
       "      <th>overs</th>\n",
       "      <th>runs_last_5</th>\n",
       "      <th>wickets_last_5</th>\n",
       "      <th>total</th>\n",
       "    </tr>\n",
       "  </thead>\n",
       "  <tbody>\n",
       "    <tr>\n",
       "      <th>32</th>\n",
       "      <td>M Chinnaswamy Stadium</td>\n",
       "      <td>Kolkata Knight Riders</td>\n",
       "      <td>Royal Challengers Bangalore</td>\n",
       "      <td>61</td>\n",
       "      <td>0</td>\n",
       "      <td>5.1</td>\n",
       "      <td>59</td>\n",
       "      <td>0</td>\n",
       "      <td>222</td>\n",
       "    </tr>\n",
       "    <tr>\n",
       "      <th>33</th>\n",
       "      <td>M Chinnaswamy Stadium</td>\n",
       "      <td>Kolkata Knight Riders</td>\n",
       "      <td>Royal Challengers Bangalore</td>\n",
       "      <td>61</td>\n",
       "      <td>1</td>\n",
       "      <td>5.2</td>\n",
       "      <td>59</td>\n",
       "      <td>1</td>\n",
       "      <td>222</td>\n",
       "    </tr>\n",
       "    <tr>\n",
       "      <th>34</th>\n",
       "      <td>M Chinnaswamy Stadium</td>\n",
       "      <td>Kolkata Knight Riders</td>\n",
       "      <td>Royal Challengers Bangalore</td>\n",
       "      <td>61</td>\n",
       "      <td>1</td>\n",
       "      <td>5.3</td>\n",
       "      <td>59</td>\n",
       "      <td>1</td>\n",
       "      <td>222</td>\n",
       "    </tr>\n",
       "    <tr>\n",
       "      <th>35</th>\n",
       "      <td>M Chinnaswamy Stadium</td>\n",
       "      <td>Kolkata Knight Riders</td>\n",
       "      <td>Royal Challengers Bangalore</td>\n",
       "      <td>61</td>\n",
       "      <td>1</td>\n",
       "      <td>5.4</td>\n",
       "      <td>59</td>\n",
       "      <td>1</td>\n",
       "      <td>222</td>\n",
       "    </tr>\n",
       "    <tr>\n",
       "      <th>36</th>\n",
       "      <td>M Chinnaswamy Stadium</td>\n",
       "      <td>Kolkata Knight Riders</td>\n",
       "      <td>Royal Challengers Bangalore</td>\n",
       "      <td>61</td>\n",
       "      <td>1</td>\n",
       "      <td>5.5</td>\n",
       "      <td>58</td>\n",
       "      <td>1</td>\n",
       "      <td>222</td>\n",
       "    </tr>\n",
       "  </tbody>\n",
       "</table>\n",
       "</div>"
      ],
      "text/plain": [
       "                    venue               bat_team                    bowl_team  \\\n",
       "32  M Chinnaswamy Stadium  Kolkata Knight Riders  Royal Challengers Bangalore   \n",
       "33  M Chinnaswamy Stadium  Kolkata Knight Riders  Royal Challengers Bangalore   \n",
       "34  M Chinnaswamy Stadium  Kolkata Knight Riders  Royal Challengers Bangalore   \n",
       "35  M Chinnaswamy Stadium  Kolkata Knight Riders  Royal Challengers Bangalore   \n",
       "36  M Chinnaswamy Stadium  Kolkata Knight Riders  Royal Challengers Bangalore   \n",
       "\n",
       "    runs  wickets  overs  runs_last_5  wickets_last_5  total  \n",
       "32    61        0    5.1           59               0    222  \n",
       "33    61        1    5.2           59               1    222  \n",
       "34    61        1    5.3           59               1    222  \n",
       "35    61        1    5.4           59               1    222  \n",
       "36    61        1    5.5           58               1    222  "
      ]
     },
     "execution_count": 24,
     "metadata": {},
     "output_type": "execute_result"
    }
   ],
   "source": [
    "ipl_df.head()"
   ]
  },
  {
   "cell_type": "code",
   "execution_count": 25,
   "id": "18145511-0a34-498b-ba83-19684c487cbe",
   "metadata": {},
   "outputs": [],
   "source": [
    "# --- Data Preprocessing ---\n",
    "# Converting categorical features using OneHotEncoding method\n",
    "# ipl_encoded_df = pd.get_dummies(data=ipl_df, columns=['venue', 'bat_team', 'bowl_team'])"
   ]
  },
  {
   "cell_type": "code",
   "execution_count": 26,
   "id": "3bceac8d-887f-4a7d-a154-6c19f93afc25",
   "metadata": {},
   "outputs": [],
   "source": [
    "# ipl_encoded_df.columns"
   ]
  },
  {
   "cell_type": "code",
   "execution_count": 27,
   "id": "852ae2f3-fe4c-4611-94a4-ba59121f264c",
   "metadata": {},
   "outputs": [],
   "source": [
    "# Rearranging the columns\n",
    "# ipl_encoded_df = ipl_encoded_df[['venue_Barabati Stadium', 'venue_Brabourne Stadium',\n",
    "#        'venue_Buffalo Park', 'venue_De Beers Diamond Oval',\n",
    "#        'venue_Dr DY Patil Sports Academy',\n",
    "#        'venue_Dr. Y.S. Rajasekhara Reddy ACA-VDCA Cricket Stadium',\n",
    "#        'venue_Dubai International Cricket Stadium', 'venue_Eden Gardens',\n",
    "#        'venue_Feroz Shah Kotla',\n",
    "#        'venue_Himachal Pradesh Cricket Association Stadium',\n",
    "#        'venue_Holkar Cricket Stadium',\n",
    "#        'venue_JSCA International Stadium Complex', 'venue_Kingsmead',\n",
    "#        'venue_M Chinnaswamy Stadium', 'venue_MA Chidambaram Stadium, Chepauk',\n",
    "#        'venue_Maharashtra Cricket Association Stadium',\n",
    "#        'venue_New Wanderers Stadium', 'venue_Newlands',\n",
    "#        'venue_OUTsurance Oval',\n",
    "#        'venue_Punjab Cricket Association IS Bindra Stadium, Mohali',\n",
    "#        'venue_Punjab Cricket Association Stadium, Mohali',\n",
    "#        'venue_Rajiv Gandhi International Stadium, Uppal',\n",
    "#        'venue_Sardar Patel Stadium, Motera', 'venue_Sawai Mansingh Stadium',\n",
    "#        'venue_Shaheed Veer Narayan Singh International Stadium',\n",
    "#        'venue_Sharjah Cricket Stadium', 'venue_Sheikh Zayed Stadium',\n",
    "#        \"venue_St George's Park\", 'venue_Subrata Roy Sahara Stadium',\n",
    "#        'venue_SuperSport Park',\n",
    "#        'venue_Vidarbha Cricket Association Stadium, Jamtha',\n",
    "#        'venue_Wankhede Stadium', 'bat_team_Chennai Super Kings',\n",
    "#        'bat_team_Delhi Capitals', 'bat_team_Kolkata Knight Riders',\n",
    "#        'bat_team_Mumbai Indians', 'bat_team_Punjab Kings',\n",
    "#        'bat_team_Rajasthan Royals', 'bat_team_Royal Challengers Bangalore',\n",
    "#        'bat_team_Sunrisers Hyderabad', 'bowl_team_Chennai Super Kings',\n",
    "#        'bowl_team_Delhi Capitals', 'bowl_team_Kolkata Knight Riders',\n",
    "#        'bowl_team_Mumbai Indians', 'bowl_team_Punjab Kings',\n",
    "#        'bowl_team_Rajasthan Royals', 'bowl_team_Royal Challengers Bangalore',\n",
    "#        'bowl_team_Sunrisers Hyderabad','runs', 'wickets', 'overs', 'runs_last_5', 'wickets_last_5', 'total']]"
   ]
  },
  {
   "cell_type": "code",
   "execution_count": 28,
   "id": "8aa294b9-d9cd-4e6d-a775-597d6b817bb0",
   "metadata": {},
   "outputs": [],
   "source": [
    "# ipl_encoded_df.head()"
   ]
  },
  {
   "cell_type": "code",
   "execution_count": 29,
   "id": "ad0f8e20-13bb-45a6-b508-eff6aa2f8f57",
   "metadata": {},
   "outputs": [],
   "source": [
    "X = ipl_df.iloc[:,:-1]\n",
    "y = ipl_df.iloc[:,-1]\n",
    "from sklearn.model_selection import train_test_split\n",
    "X_train,X_test,y_train,y_test = train_test_split(X,y,test_size=0.2,random_state=1)"
   ]
  },
  {
   "cell_type": "code",
   "execution_count": 30,
   "id": "6d1223d2-4f89-4fb2-8d52-0a1f6756f71b",
   "metadata": {},
   "outputs": [
    {
     "data": {
      "text/html": [
       "<div>\n",
       "<style scoped>\n",
       "    .dataframe tbody tr th:only-of-type {\n",
       "        vertical-align: middle;\n",
       "    }\n",
       "\n",
       "    .dataframe tbody tr th {\n",
       "        vertical-align: top;\n",
       "    }\n",
       "\n",
       "    .dataframe thead th {\n",
       "        text-align: right;\n",
       "    }\n",
       "</style>\n",
       "<table border=\"1\" class=\"dataframe\">\n",
       "  <thead>\n",
       "    <tr style=\"text-align: right;\">\n",
       "      <th></th>\n",
       "      <th>venue</th>\n",
       "      <th>bat_team</th>\n",
       "      <th>bowl_team</th>\n",
       "      <th>runs</th>\n",
       "      <th>wickets</th>\n",
       "      <th>overs</th>\n",
       "      <th>runs_last_5</th>\n",
       "      <th>wickets_last_5</th>\n",
       "      <th>total</th>\n",
       "    </tr>\n",
       "  </thead>\n",
       "  <tbody>\n",
       "    <tr>\n",
       "      <th>32</th>\n",
       "      <td>M Chinnaswamy Stadium</td>\n",
       "      <td>Kolkata Knight Riders</td>\n",
       "      <td>Royal Challengers Bangalore</td>\n",
       "      <td>61</td>\n",
       "      <td>0</td>\n",
       "      <td>5.1</td>\n",
       "      <td>59</td>\n",
       "      <td>0</td>\n",
       "      <td>222</td>\n",
       "    </tr>\n",
       "    <tr>\n",
       "      <th>33</th>\n",
       "      <td>M Chinnaswamy Stadium</td>\n",
       "      <td>Kolkata Knight Riders</td>\n",
       "      <td>Royal Challengers Bangalore</td>\n",
       "      <td>61</td>\n",
       "      <td>1</td>\n",
       "      <td>5.2</td>\n",
       "      <td>59</td>\n",
       "      <td>1</td>\n",
       "      <td>222</td>\n",
       "    </tr>\n",
       "    <tr>\n",
       "      <th>34</th>\n",
       "      <td>M Chinnaswamy Stadium</td>\n",
       "      <td>Kolkata Knight Riders</td>\n",
       "      <td>Royal Challengers Bangalore</td>\n",
       "      <td>61</td>\n",
       "      <td>1</td>\n",
       "      <td>5.3</td>\n",
       "      <td>59</td>\n",
       "      <td>1</td>\n",
       "      <td>222</td>\n",
       "    </tr>\n",
       "    <tr>\n",
       "      <th>35</th>\n",
       "      <td>M Chinnaswamy Stadium</td>\n",
       "      <td>Kolkata Knight Riders</td>\n",
       "      <td>Royal Challengers Bangalore</td>\n",
       "      <td>61</td>\n",
       "      <td>1</td>\n",
       "      <td>5.4</td>\n",
       "      <td>59</td>\n",
       "      <td>1</td>\n",
       "      <td>222</td>\n",
       "    </tr>\n",
       "    <tr>\n",
       "      <th>36</th>\n",
       "      <td>M Chinnaswamy Stadium</td>\n",
       "      <td>Kolkata Knight Riders</td>\n",
       "      <td>Royal Challengers Bangalore</td>\n",
       "      <td>61</td>\n",
       "      <td>1</td>\n",
       "      <td>5.5</td>\n",
       "      <td>58</td>\n",
       "      <td>1</td>\n",
       "      <td>222</td>\n",
       "    </tr>\n",
       "  </tbody>\n",
       "</table>\n",
       "</div>"
      ],
      "text/plain": [
       "                    venue               bat_team                    bowl_team  \\\n",
       "32  M Chinnaswamy Stadium  Kolkata Knight Riders  Royal Challengers Bangalore   \n",
       "33  M Chinnaswamy Stadium  Kolkata Knight Riders  Royal Challengers Bangalore   \n",
       "34  M Chinnaswamy Stadium  Kolkata Knight Riders  Royal Challengers Bangalore   \n",
       "35  M Chinnaswamy Stadium  Kolkata Knight Riders  Royal Challengers Bangalore   \n",
       "36  M Chinnaswamy Stadium  Kolkata Knight Riders  Royal Challengers Bangalore   \n",
       "\n",
       "    runs  wickets  overs  runs_last_5  wickets_last_5  total  \n",
       "32    61        0    5.1           59               0    222  \n",
       "33    61        1    5.2           59               1    222  \n",
       "34    61        1    5.3           59               1    222  \n",
       "35    61        1    5.4           59               1    222  \n",
       "36    61        1    5.5           58               1    222  "
      ]
     },
     "execution_count": 30,
     "metadata": {},
     "output_type": "execute_result"
    }
   ],
   "source": [
    "ipl_df.head()"
   ]
  },
  {
   "cell_type": "code",
   "execution_count": 31,
   "id": "d1b3600b-026e-44a8-9847-d66f54ba2164",
   "metadata": {},
   "outputs": [
    {
     "data": {
      "text/html": [
       "<div>\n",
       "<style scoped>\n",
       "    .dataframe tbody tr th:only-of-type {\n",
       "        vertical-align: middle;\n",
       "    }\n",
       "\n",
       "    .dataframe tbody tr th {\n",
       "        vertical-align: top;\n",
       "    }\n",
       "\n",
       "    .dataframe thead th {\n",
       "        text-align: right;\n",
       "    }\n",
       "</style>\n",
       "<table border=\"1\" class=\"dataframe\">\n",
       "  <thead>\n",
       "    <tr style=\"text-align: right;\">\n",
       "      <th></th>\n",
       "      <th>venue</th>\n",
       "      <th>bat_team</th>\n",
       "      <th>bowl_team</th>\n",
       "      <th>runs</th>\n",
       "      <th>wickets</th>\n",
       "      <th>overs</th>\n",
       "      <th>runs_last_5</th>\n",
       "      <th>wickets_last_5</th>\n",
       "    </tr>\n",
       "  </thead>\n",
       "  <tbody>\n",
       "    <tr>\n",
       "      <th>4724</th>\n",
       "      <td>Feroz Shah Kotla</td>\n",
       "      <td>Delhi Capitals</td>\n",
       "      <td>Sunrisers Hyderabad</td>\n",
       "      <td>80</td>\n",
       "      <td>1</td>\n",
       "      <td>10.4</td>\n",
       "      <td>32</td>\n",
       "      <td>0</td>\n",
       "    </tr>\n",
       "    <tr>\n",
       "      <th>18417</th>\n",
       "      <td>Eden Gardens</td>\n",
       "      <td>Kolkata Knight Riders</td>\n",
       "      <td>Delhi Capitals</td>\n",
       "      <td>108</td>\n",
       "      <td>2</td>\n",
       "      <td>12.3</td>\n",
       "      <td>40</td>\n",
       "      <td>2</td>\n",
       "    </tr>\n",
       "    <tr>\n",
       "      <th>14528</th>\n",
       "      <td>Eden Gardens</td>\n",
       "      <td>Chennai Super Kings</td>\n",
       "      <td>Kolkata Knight Riders</td>\n",
       "      <td>59</td>\n",
       "      <td>3</td>\n",
       "      <td>10.2</td>\n",
       "      <td>33</td>\n",
       "      <td>2</td>\n",
       "    </tr>\n",
       "    <tr>\n",
       "      <th>14531</th>\n",
       "      <td>Eden Gardens</td>\n",
       "      <td>Chennai Super Kings</td>\n",
       "      <td>Kolkata Knight Riders</td>\n",
       "      <td>63</td>\n",
       "      <td>3</td>\n",
       "      <td>10.5</td>\n",
       "      <td>32</td>\n",
       "      <td>2</td>\n",
       "    </tr>\n",
       "    <tr>\n",
       "      <th>59598</th>\n",
       "      <td>Eden Gardens</td>\n",
       "      <td>Kolkata Knight Riders</td>\n",
       "      <td>Sunrisers Hyderabad</td>\n",
       "      <td>102</td>\n",
       "      <td>3</td>\n",
       "      <td>13.1</td>\n",
       "      <td>34</td>\n",
       "      <td>2</td>\n",
       "    </tr>\n",
       "    <tr>\n",
       "      <th>...</th>\n",
       "      <td>...</td>\n",
       "      <td>...</td>\n",
       "      <td>...</td>\n",
       "      <td>...</td>\n",
       "      <td>...</td>\n",
       "      <td>...</td>\n",
       "      <td>...</td>\n",
       "      <td>...</td>\n",
       "    </tr>\n",
       "    <tr>\n",
       "      <th>68803</th>\n",
       "      <td>M Chinnaswamy Stadium</td>\n",
       "      <td>Sunrisers Hyderabad</td>\n",
       "      <td>Royal Challengers Bangalore</td>\n",
       "      <td>103</td>\n",
       "      <td>2</td>\n",
       "      <td>10.6</td>\n",
       "      <td>44</td>\n",
       "      <td>2</td>\n",
       "    </tr>\n",
       "    <tr>\n",
       "      <th>50682</th>\n",
       "      <td>Feroz Shah Kotla</td>\n",
       "      <td>Delhi Capitals</td>\n",
       "      <td>Rajasthan Royals</td>\n",
       "      <td>44</td>\n",
       "      <td>1</td>\n",
       "      <td>5.4</td>\n",
       "      <td>37</td>\n",
       "      <td>1</td>\n",
       "    </tr>\n",
       "    <tr>\n",
       "      <th>6982</th>\n",
       "      <td>Newlands</td>\n",
       "      <td>Mumbai Indians</td>\n",
       "      <td>Chennai Super Kings</td>\n",
       "      <td>157</td>\n",
       "      <td>6</td>\n",
       "      <td>18.6</td>\n",
       "      <td>56</td>\n",
       "      <td>3</td>\n",
       "    </tr>\n",
       "    <tr>\n",
       "      <th>16383</th>\n",
       "      <td>M Chinnaswamy Stadium</td>\n",
       "      <td>Delhi Capitals</td>\n",
       "      <td>Royal Challengers Bangalore</td>\n",
       "      <td>77</td>\n",
       "      <td>2</td>\n",
       "      <td>7.3</td>\n",
       "      <td>42</td>\n",
       "      <td>2</td>\n",
       "    </tr>\n",
       "    <tr>\n",
       "      <th>51330</th>\n",
       "      <td>Feroz Shah Kotla</td>\n",
       "      <td>Delhi Capitals</td>\n",
       "      <td>Kolkata Knight Riders</td>\n",
       "      <td>64</td>\n",
       "      <td>3</td>\n",
       "      <td>9.3</td>\n",
       "      <td>39</td>\n",
       "      <td>2</td>\n",
       "    </tr>\n",
       "  </tbody>\n",
       "</table>\n",
       "<p>37248 rows × 8 columns</p>\n",
       "</div>"
      ],
      "text/plain": [
       "                       venue               bat_team  \\\n",
       "4724        Feroz Shah Kotla         Delhi Capitals   \n",
       "18417           Eden Gardens  Kolkata Knight Riders   \n",
       "14528           Eden Gardens    Chennai Super Kings   \n",
       "14531           Eden Gardens    Chennai Super Kings   \n",
       "59598           Eden Gardens  Kolkata Knight Riders   \n",
       "...                      ...                    ...   \n",
       "68803  M Chinnaswamy Stadium    Sunrisers Hyderabad   \n",
       "50682       Feroz Shah Kotla         Delhi Capitals   \n",
       "6982                Newlands         Mumbai Indians   \n",
       "16383  M Chinnaswamy Stadium         Delhi Capitals   \n",
       "51330       Feroz Shah Kotla         Delhi Capitals   \n",
       "\n",
       "                         bowl_team  runs  wickets  overs  runs_last_5  \\\n",
       "4724           Sunrisers Hyderabad    80        1   10.4           32   \n",
       "18417               Delhi Capitals   108        2   12.3           40   \n",
       "14528        Kolkata Knight Riders    59        3   10.2           33   \n",
       "14531        Kolkata Knight Riders    63        3   10.5           32   \n",
       "59598          Sunrisers Hyderabad   102        3   13.1           34   \n",
       "...                            ...   ...      ...    ...          ...   \n",
       "68803  Royal Challengers Bangalore   103        2   10.6           44   \n",
       "50682             Rajasthan Royals    44        1    5.4           37   \n",
       "6982           Chennai Super Kings   157        6   18.6           56   \n",
       "16383  Royal Challengers Bangalore    77        2    7.3           42   \n",
       "51330        Kolkata Knight Riders    64        3    9.3           39   \n",
       "\n",
       "       wickets_last_5  \n",
       "4724                0  \n",
       "18417               2  \n",
       "14528               2  \n",
       "14531               2  \n",
       "59598               2  \n",
       "...               ...  \n",
       "68803               2  \n",
       "50682               1  \n",
       "6982                3  \n",
       "16383               2  \n",
       "51330               2  \n",
       "\n",
       "[37248 rows x 8 columns]"
      ]
     },
     "execution_count": 31,
     "metadata": {},
     "output_type": "execute_result"
    }
   ],
   "source": [
    "X_train"
   ]
  },
  {
   "cell_type": "code",
   "execution_count": 32,
   "id": "ed616887-a85d-4afd-838b-20aff4ec26e2",
   "metadata": {},
   "outputs": [],
   "source": [
    "from sklearn.preprocessing import OneHotEncoder\n",
    "from sklearn.compose import make_column_transformer\n",
    "from sklearn.pipeline import make_pipeline\n",
    "from sklearn.metrics import r2_score"
   ]
  },
  {
   "cell_type": "code",
   "execution_count": 33,
   "id": "7afee0fc-93e9-41d6-9ab9-3067b5e822e0",
   "metadata": {},
   "outputs": [],
   "source": [
    "from sklearn.linear_model import LinearRegression"
   ]
  },
  {
   "cell_type": "code",
   "execution_count": 34,
   "id": "5abdeeec-d5f8-47ff-90b3-0c310cd85d87",
   "metadata": {},
   "outputs": [
    {
     "data": {
      "text/html": [
       "<style>#sk-container-id-1 {color: black;}#sk-container-id-1 pre{padding: 0;}#sk-container-id-1 div.sk-toggleable {background-color: white;}#sk-container-id-1 label.sk-toggleable__label {cursor: pointer;display: block;width: 100%;margin-bottom: 0;padding: 0.3em;box-sizing: border-box;text-align: center;}#sk-container-id-1 label.sk-toggleable__label-arrow:before {content: \"▸\";float: left;margin-right: 0.25em;color: #696969;}#sk-container-id-1 label.sk-toggleable__label-arrow:hover:before {color: black;}#sk-container-id-1 div.sk-estimator:hover label.sk-toggleable__label-arrow:before {color: black;}#sk-container-id-1 div.sk-toggleable__content {max-height: 0;max-width: 0;overflow: hidden;text-align: left;background-color: #f0f8ff;}#sk-container-id-1 div.sk-toggleable__content pre {margin: 0.2em;color: black;border-radius: 0.25em;background-color: #f0f8ff;}#sk-container-id-1 input.sk-toggleable__control:checked~div.sk-toggleable__content {max-height: 200px;max-width: 100%;overflow: auto;}#sk-container-id-1 input.sk-toggleable__control:checked~label.sk-toggleable__label-arrow:before {content: \"▾\";}#sk-container-id-1 div.sk-estimator input.sk-toggleable__control:checked~label.sk-toggleable__label {background-color: #d4ebff;}#sk-container-id-1 div.sk-label input.sk-toggleable__control:checked~label.sk-toggleable__label {background-color: #d4ebff;}#sk-container-id-1 input.sk-hidden--visually {border: 0;clip: rect(1px 1px 1px 1px);clip: rect(1px, 1px, 1px, 1px);height: 1px;margin: -1px;overflow: hidden;padding: 0;position: absolute;width: 1px;}#sk-container-id-1 div.sk-estimator {font-family: monospace;background-color: #f0f8ff;border: 1px dotted black;border-radius: 0.25em;box-sizing: border-box;margin-bottom: 0.5em;}#sk-container-id-1 div.sk-estimator:hover {background-color: #d4ebff;}#sk-container-id-1 div.sk-parallel-item::after {content: \"\";width: 100%;border-bottom: 1px solid gray;flex-grow: 1;}#sk-container-id-1 div.sk-label:hover label.sk-toggleable__label {background-color: #d4ebff;}#sk-container-id-1 div.sk-serial::before {content: \"\";position: absolute;border-left: 1px solid gray;box-sizing: border-box;top: 0;bottom: 0;left: 50%;z-index: 0;}#sk-container-id-1 div.sk-serial {display: flex;flex-direction: column;align-items: center;background-color: white;padding-right: 0.2em;padding-left: 0.2em;position: relative;}#sk-container-id-1 div.sk-item {position: relative;z-index: 1;}#sk-container-id-1 div.sk-parallel {display: flex;align-items: stretch;justify-content: center;background-color: white;position: relative;}#sk-container-id-1 div.sk-item::before, #sk-container-id-1 div.sk-parallel-item::before {content: \"\";position: absolute;border-left: 1px solid gray;box-sizing: border-box;top: 0;bottom: 0;left: 50%;z-index: -1;}#sk-container-id-1 div.sk-parallel-item {display: flex;flex-direction: column;z-index: 1;position: relative;background-color: white;}#sk-container-id-1 div.sk-parallel-item:first-child::after {align-self: flex-end;width: 50%;}#sk-container-id-1 div.sk-parallel-item:last-child::after {align-self: flex-start;width: 50%;}#sk-container-id-1 div.sk-parallel-item:only-child::after {width: 0;}#sk-container-id-1 div.sk-dashed-wrapped {border: 1px dashed gray;margin: 0 0.4em 0.5em 0.4em;box-sizing: border-box;padding-bottom: 0.4em;background-color: white;}#sk-container-id-1 div.sk-label label {font-family: monospace;font-weight: bold;display: inline-block;line-height: 1.2em;}#sk-container-id-1 div.sk-label-container {text-align: center;}#sk-container-id-1 div.sk-container {/* jupyter's `normalize.less` sets `[hidden] { display: none; }` but bootstrap.min.css set `[hidden] { display: none !important; }` so we also need the `!important` here to be able to override the default hidden behavior on the sphinx rendered scikit-learn.org. See: https://github.com/scikit-learn/scikit-learn/issues/21755 */display: inline-block !important;position: relative;}#sk-container-id-1 div.sk-text-repr-fallback {display: none;}</style><div id=\"sk-container-id-1\" class=\"sk-top-container\"><div class=\"sk-text-repr-fallback\"><pre>OneHotEncoder()</pre><b>In a Jupyter environment, please rerun this cell to show the HTML representation or trust the notebook. <br />On GitHub, the HTML representation is unable to render, please try loading this page with nbviewer.org.</b></div><div class=\"sk-container\" hidden><div class=\"sk-item\"><div class=\"sk-estimator sk-toggleable\"><input class=\"sk-toggleable__control sk-hidden--visually\" id=\"sk-estimator-id-1\" type=\"checkbox\" checked><label for=\"sk-estimator-id-1\" class=\"sk-toggleable__label sk-toggleable__label-arrow\">OneHotEncoder</label><div class=\"sk-toggleable__content\"><pre>OneHotEncoder()</pre></div></div></div></div></div>"
      ],
      "text/plain": [
       "OneHotEncoder()"
      ]
     },
     "execution_count": 34,
     "metadata": {},
     "output_type": "execute_result"
    }
   ],
   "source": [
    "ohe = OneHotEncoder()\n",
    "ohe.fit(ipl_df[['venue','bat_team','bowl_team']])"
   ]
  },
  {
   "cell_type": "code",
   "execution_count": 35,
   "id": "a76a524a-8303-4712-91ba-c9bd6c832bd8",
   "metadata": {},
   "outputs": [],
   "source": [
    "column_trans=make_column_transformer((OneHotEncoder(categories=ohe.categories_),['venue','bat_team','bowl_team']),\n",
    "                                    remainder='passthrough')"
   ]
  },
  {
   "cell_type": "code",
   "execution_count": 36,
   "id": "88f3a815-90c9-4d56-94e1-3da03ad549f3",
   "metadata": {},
   "outputs": [],
   "source": [
    "lr = LinearRegression()"
   ]
  },
  {
   "cell_type": "code",
   "execution_count": 37,
   "id": "a791668c-4b78-4044-86b8-7e9958061f36",
   "metadata": {},
   "outputs": [],
   "source": [
    "pipe = make_pipeline(column_trans,lr)"
   ]
  },
  {
   "cell_type": "code",
   "execution_count": 38,
   "id": "c8a87b8b-f71c-42db-ac5a-6d629ee58c6e",
   "metadata": {},
   "outputs": [
    {
     "data": {
      "text/html": [
       "<style>#sk-container-id-2 {color: black;}#sk-container-id-2 pre{padding: 0;}#sk-container-id-2 div.sk-toggleable {background-color: white;}#sk-container-id-2 label.sk-toggleable__label {cursor: pointer;display: block;width: 100%;margin-bottom: 0;padding: 0.3em;box-sizing: border-box;text-align: center;}#sk-container-id-2 label.sk-toggleable__label-arrow:before {content: \"▸\";float: left;margin-right: 0.25em;color: #696969;}#sk-container-id-2 label.sk-toggleable__label-arrow:hover:before {color: black;}#sk-container-id-2 div.sk-estimator:hover label.sk-toggleable__label-arrow:before {color: black;}#sk-container-id-2 div.sk-toggleable__content {max-height: 0;max-width: 0;overflow: hidden;text-align: left;background-color: #f0f8ff;}#sk-container-id-2 div.sk-toggleable__content pre {margin: 0.2em;color: black;border-radius: 0.25em;background-color: #f0f8ff;}#sk-container-id-2 input.sk-toggleable__control:checked~div.sk-toggleable__content {max-height: 200px;max-width: 100%;overflow: auto;}#sk-container-id-2 input.sk-toggleable__control:checked~label.sk-toggleable__label-arrow:before {content: \"▾\";}#sk-container-id-2 div.sk-estimator input.sk-toggleable__control:checked~label.sk-toggleable__label {background-color: #d4ebff;}#sk-container-id-2 div.sk-label input.sk-toggleable__control:checked~label.sk-toggleable__label {background-color: #d4ebff;}#sk-container-id-2 input.sk-hidden--visually {border: 0;clip: rect(1px 1px 1px 1px);clip: rect(1px, 1px, 1px, 1px);height: 1px;margin: -1px;overflow: hidden;padding: 0;position: absolute;width: 1px;}#sk-container-id-2 div.sk-estimator {font-family: monospace;background-color: #f0f8ff;border: 1px dotted black;border-radius: 0.25em;box-sizing: border-box;margin-bottom: 0.5em;}#sk-container-id-2 div.sk-estimator:hover {background-color: #d4ebff;}#sk-container-id-2 div.sk-parallel-item::after {content: \"\";width: 100%;border-bottom: 1px solid gray;flex-grow: 1;}#sk-container-id-2 div.sk-label:hover label.sk-toggleable__label {background-color: #d4ebff;}#sk-container-id-2 div.sk-serial::before {content: \"\";position: absolute;border-left: 1px solid gray;box-sizing: border-box;top: 0;bottom: 0;left: 50%;z-index: 0;}#sk-container-id-2 div.sk-serial {display: flex;flex-direction: column;align-items: center;background-color: white;padding-right: 0.2em;padding-left: 0.2em;position: relative;}#sk-container-id-2 div.sk-item {position: relative;z-index: 1;}#sk-container-id-2 div.sk-parallel {display: flex;align-items: stretch;justify-content: center;background-color: white;position: relative;}#sk-container-id-2 div.sk-item::before, #sk-container-id-2 div.sk-parallel-item::before {content: \"\";position: absolute;border-left: 1px solid gray;box-sizing: border-box;top: 0;bottom: 0;left: 50%;z-index: -1;}#sk-container-id-2 div.sk-parallel-item {display: flex;flex-direction: column;z-index: 1;position: relative;background-color: white;}#sk-container-id-2 div.sk-parallel-item:first-child::after {align-self: flex-end;width: 50%;}#sk-container-id-2 div.sk-parallel-item:last-child::after {align-self: flex-start;width: 50%;}#sk-container-id-2 div.sk-parallel-item:only-child::after {width: 0;}#sk-container-id-2 div.sk-dashed-wrapped {border: 1px dashed gray;margin: 0 0.4em 0.5em 0.4em;box-sizing: border-box;padding-bottom: 0.4em;background-color: white;}#sk-container-id-2 div.sk-label label {font-family: monospace;font-weight: bold;display: inline-block;line-height: 1.2em;}#sk-container-id-2 div.sk-label-container {text-align: center;}#sk-container-id-2 div.sk-container {/* jupyter's `normalize.less` sets `[hidden] { display: none; }` but bootstrap.min.css set `[hidden] { display: none !important; }` so we also need the `!important` here to be able to override the default hidden behavior on the sphinx rendered scikit-learn.org. See: https://github.com/scikit-learn/scikit-learn/issues/21755 */display: inline-block !important;position: relative;}#sk-container-id-2 div.sk-text-repr-fallback {display: none;}</style><div id=\"sk-container-id-2\" class=\"sk-top-container\"><div class=\"sk-text-repr-fallback\"><pre>Pipeline(steps=[(&#x27;columntransformer&#x27;,\n",
       "                 ColumnTransformer(remainder=&#x27;passthrough&#x27;,\n",
       "                                   transformers=[(&#x27;onehotencoder&#x27;,\n",
       "                                                  OneHotEncoder(categories=[array([&#x27;Barabati Stadium&#x27;, &#x27;Brabourne Stadium&#x27;, &#x27;Buffalo Park&#x27;,\n",
       "       &#x27;De Beers Diamond Oval&#x27;, &#x27;Dr DY Patil Sports Academy&#x27;,\n",
       "       &#x27;Dr. Y.S. Rajasekhara Reddy ACA-VDCA Cricket Stadium&#x27;,\n",
       "       &#x27;Dubai International Cricket Stadium&#x27;, &#x27;Eden Gardens&#x27;,\n",
       "       &#x27;Feroz Shah Kot...\n",
       "       &#x27;Mumbai Indians&#x27;, &#x27;Punjab Kings&#x27;, &#x27;Rajasthan Royals&#x27;,\n",
       "       &#x27;Royal Challengers Bangalore&#x27;, &#x27;Sunrisers Hyderabad&#x27;], dtype=object),\n",
       "                                                                            array([&#x27;Chennai Super Kings&#x27;, &#x27;Delhi Capitals&#x27;, &#x27;Kolkata Knight Riders&#x27;,\n",
       "       &#x27;Mumbai Indians&#x27;, &#x27;Punjab Kings&#x27;, &#x27;Rajasthan Royals&#x27;,\n",
       "       &#x27;Royal Challengers Bangalore&#x27;, &#x27;Sunrisers Hyderabad&#x27;], dtype=object)]),\n",
       "                                                  [&#x27;venue&#x27;, &#x27;bat_team&#x27;,\n",
       "                                                   &#x27;bowl_team&#x27;])])),\n",
       "                (&#x27;linearregression&#x27;, LinearRegression())])</pre><b>In a Jupyter environment, please rerun this cell to show the HTML representation or trust the notebook. <br />On GitHub, the HTML representation is unable to render, please try loading this page with nbviewer.org.</b></div><div class=\"sk-container\" hidden><div class=\"sk-item sk-dashed-wrapped\"><div class=\"sk-label-container\"><div class=\"sk-label sk-toggleable\"><input class=\"sk-toggleable__control sk-hidden--visually\" id=\"sk-estimator-id-2\" type=\"checkbox\" ><label for=\"sk-estimator-id-2\" class=\"sk-toggleable__label sk-toggleable__label-arrow\">Pipeline</label><div class=\"sk-toggleable__content\"><pre>Pipeline(steps=[(&#x27;columntransformer&#x27;,\n",
       "                 ColumnTransformer(remainder=&#x27;passthrough&#x27;,\n",
       "                                   transformers=[(&#x27;onehotencoder&#x27;,\n",
       "                                                  OneHotEncoder(categories=[array([&#x27;Barabati Stadium&#x27;, &#x27;Brabourne Stadium&#x27;, &#x27;Buffalo Park&#x27;,\n",
       "       &#x27;De Beers Diamond Oval&#x27;, &#x27;Dr DY Patil Sports Academy&#x27;,\n",
       "       &#x27;Dr. Y.S. Rajasekhara Reddy ACA-VDCA Cricket Stadium&#x27;,\n",
       "       &#x27;Dubai International Cricket Stadium&#x27;, &#x27;Eden Gardens&#x27;,\n",
       "       &#x27;Feroz Shah Kot...\n",
       "       &#x27;Mumbai Indians&#x27;, &#x27;Punjab Kings&#x27;, &#x27;Rajasthan Royals&#x27;,\n",
       "       &#x27;Royal Challengers Bangalore&#x27;, &#x27;Sunrisers Hyderabad&#x27;], dtype=object),\n",
       "                                                                            array([&#x27;Chennai Super Kings&#x27;, &#x27;Delhi Capitals&#x27;, &#x27;Kolkata Knight Riders&#x27;,\n",
       "       &#x27;Mumbai Indians&#x27;, &#x27;Punjab Kings&#x27;, &#x27;Rajasthan Royals&#x27;,\n",
       "       &#x27;Royal Challengers Bangalore&#x27;, &#x27;Sunrisers Hyderabad&#x27;], dtype=object)]),\n",
       "                                                  [&#x27;venue&#x27;, &#x27;bat_team&#x27;,\n",
       "                                                   &#x27;bowl_team&#x27;])])),\n",
       "                (&#x27;linearregression&#x27;, LinearRegression())])</pre></div></div></div><div class=\"sk-serial\"><div class=\"sk-item sk-dashed-wrapped\"><div class=\"sk-label-container\"><div class=\"sk-label sk-toggleable\"><input class=\"sk-toggleable__control sk-hidden--visually\" id=\"sk-estimator-id-3\" type=\"checkbox\" ><label for=\"sk-estimator-id-3\" class=\"sk-toggleable__label sk-toggleable__label-arrow\">columntransformer: ColumnTransformer</label><div class=\"sk-toggleable__content\"><pre>ColumnTransformer(remainder=&#x27;passthrough&#x27;,\n",
       "                  transformers=[(&#x27;onehotencoder&#x27;,\n",
       "                                 OneHotEncoder(categories=[array([&#x27;Barabati Stadium&#x27;, &#x27;Brabourne Stadium&#x27;, &#x27;Buffalo Park&#x27;,\n",
       "       &#x27;De Beers Diamond Oval&#x27;, &#x27;Dr DY Patil Sports Academy&#x27;,\n",
       "       &#x27;Dr. Y.S. Rajasekhara Reddy ACA-VDCA Cricket Stadium&#x27;,\n",
       "       &#x27;Dubai International Cricket Stadium&#x27;, &#x27;Eden Gardens&#x27;,\n",
       "       &#x27;Feroz Shah Kotla&#x27;, &#x27;Himachal Pradesh Cricket Associatio...\n",
       "                                                           array([&#x27;Chennai Super Kings&#x27;, &#x27;Delhi Capitals&#x27;, &#x27;Kolkata Knight Riders&#x27;,\n",
       "       &#x27;Mumbai Indians&#x27;, &#x27;Punjab Kings&#x27;, &#x27;Rajasthan Royals&#x27;,\n",
       "       &#x27;Royal Challengers Bangalore&#x27;, &#x27;Sunrisers Hyderabad&#x27;], dtype=object),\n",
       "                                                           array([&#x27;Chennai Super Kings&#x27;, &#x27;Delhi Capitals&#x27;, &#x27;Kolkata Knight Riders&#x27;,\n",
       "       &#x27;Mumbai Indians&#x27;, &#x27;Punjab Kings&#x27;, &#x27;Rajasthan Royals&#x27;,\n",
       "       &#x27;Royal Challengers Bangalore&#x27;, &#x27;Sunrisers Hyderabad&#x27;], dtype=object)]),\n",
       "                                 [&#x27;venue&#x27;, &#x27;bat_team&#x27;, &#x27;bowl_team&#x27;])])</pre></div></div></div><div class=\"sk-parallel\"><div class=\"sk-parallel-item\"><div class=\"sk-item\"><div class=\"sk-label-container\"><div class=\"sk-label sk-toggleable\"><input class=\"sk-toggleable__control sk-hidden--visually\" id=\"sk-estimator-id-4\" type=\"checkbox\" ><label for=\"sk-estimator-id-4\" class=\"sk-toggleable__label sk-toggleable__label-arrow\">onehotencoder</label><div class=\"sk-toggleable__content\"><pre>[&#x27;venue&#x27;, &#x27;bat_team&#x27;, &#x27;bowl_team&#x27;]</pre></div></div></div><div class=\"sk-serial\"><div class=\"sk-item\"><div class=\"sk-estimator sk-toggleable\"><input class=\"sk-toggleable__control sk-hidden--visually\" id=\"sk-estimator-id-5\" type=\"checkbox\" ><label for=\"sk-estimator-id-5\" class=\"sk-toggleable__label sk-toggleable__label-arrow\">OneHotEncoder</label><div class=\"sk-toggleable__content\"><pre>OneHotEncoder(categories=[array([&#x27;Barabati Stadium&#x27;, &#x27;Brabourne Stadium&#x27;, &#x27;Buffalo Park&#x27;,\n",
       "       &#x27;De Beers Diamond Oval&#x27;, &#x27;Dr DY Patil Sports Academy&#x27;,\n",
       "       &#x27;Dr. Y.S. Rajasekhara Reddy ACA-VDCA Cricket Stadium&#x27;,\n",
       "       &#x27;Dubai International Cricket Stadium&#x27;, &#x27;Eden Gardens&#x27;,\n",
       "       &#x27;Feroz Shah Kotla&#x27;, &#x27;Himachal Pradesh Cricket Association Stadium&#x27;,\n",
       "       &#x27;Holkar Cricket Stadium&#x27;, &#x27;JSCA International Stadium Complex&#x27;,\n",
       "       &#x27;Kings...\n",
       "                          array([&#x27;Chennai Super Kings&#x27;, &#x27;Delhi Capitals&#x27;, &#x27;Kolkata Knight Riders&#x27;,\n",
       "       &#x27;Mumbai Indians&#x27;, &#x27;Punjab Kings&#x27;, &#x27;Rajasthan Royals&#x27;,\n",
       "       &#x27;Royal Challengers Bangalore&#x27;, &#x27;Sunrisers Hyderabad&#x27;], dtype=object),\n",
       "                          array([&#x27;Chennai Super Kings&#x27;, &#x27;Delhi Capitals&#x27;, &#x27;Kolkata Knight Riders&#x27;,\n",
       "       &#x27;Mumbai Indians&#x27;, &#x27;Punjab Kings&#x27;, &#x27;Rajasthan Royals&#x27;,\n",
       "       &#x27;Royal Challengers Bangalore&#x27;, &#x27;Sunrisers Hyderabad&#x27;], dtype=object)])</pre></div></div></div></div></div></div><div class=\"sk-parallel-item\"><div class=\"sk-item\"><div class=\"sk-label-container\"><div class=\"sk-label sk-toggleable\"><input class=\"sk-toggleable__control sk-hidden--visually\" id=\"sk-estimator-id-6\" type=\"checkbox\" ><label for=\"sk-estimator-id-6\" class=\"sk-toggleable__label sk-toggleable__label-arrow\">remainder</label><div class=\"sk-toggleable__content\"><pre>[&#x27;runs&#x27;, &#x27;wickets&#x27;, &#x27;overs&#x27;, &#x27;runs_last_5&#x27;, &#x27;wickets_last_5&#x27;]</pre></div></div></div><div class=\"sk-serial\"><div class=\"sk-item\"><div class=\"sk-estimator sk-toggleable\"><input class=\"sk-toggleable__control sk-hidden--visually\" id=\"sk-estimator-id-7\" type=\"checkbox\" ><label for=\"sk-estimator-id-7\" class=\"sk-toggleable__label sk-toggleable__label-arrow\">passthrough</label><div class=\"sk-toggleable__content\"><pre>passthrough</pre></div></div></div></div></div></div></div></div><div class=\"sk-item\"><div class=\"sk-estimator sk-toggleable\"><input class=\"sk-toggleable__control sk-hidden--visually\" id=\"sk-estimator-id-8\" type=\"checkbox\" ><label for=\"sk-estimator-id-8\" class=\"sk-toggleable__label sk-toggleable__label-arrow\">LinearRegression</label><div class=\"sk-toggleable__content\"><pre>LinearRegression()</pre></div></div></div></div></div></div></div>"
      ],
      "text/plain": [
       "Pipeline(steps=[('columntransformer',\n",
       "                 ColumnTransformer(remainder='passthrough',\n",
       "                                   transformers=[('onehotencoder',\n",
       "                                                  OneHotEncoder(categories=[array(['Barabati Stadium', 'Brabourne Stadium', 'Buffalo Park',\n",
       "       'De Beers Diamond Oval', 'Dr DY Patil Sports Academy',\n",
       "       'Dr. Y.S. Rajasekhara Reddy ACA-VDCA Cricket Stadium',\n",
       "       'Dubai International Cricket Stadium', 'Eden Gardens',\n",
       "       'Feroz Shah Kot...\n",
       "       'Mumbai Indians', 'Punjab Kings', 'Rajasthan Royals',\n",
       "       'Royal Challengers Bangalore', 'Sunrisers Hyderabad'], dtype=object),\n",
       "                                                                            array(['Chennai Super Kings', 'Delhi Capitals', 'Kolkata Knight Riders',\n",
       "       'Mumbai Indians', 'Punjab Kings', 'Rajasthan Royals',\n",
       "       'Royal Challengers Bangalore', 'Sunrisers Hyderabad'], dtype=object)]),\n",
       "                                                  ['venue', 'bat_team',\n",
       "                                                   'bowl_team'])])),\n",
       "                ('linearregression', LinearRegression())])"
      ]
     },
     "execution_count": 38,
     "metadata": {},
     "output_type": "execute_result"
    }
   ],
   "source": [
    "pipe.fit(X_train, y_train)"
   ]
  },
  {
   "cell_type": "code",
   "execution_count": 39,
   "id": "b5b3061f-21f1-4fcb-843a-6f5766f2d12f",
   "metadata": {},
   "outputs": [],
   "source": [
    "y_pred = pipe.predict(X_test)"
   ]
  },
  {
   "cell_type": "code",
   "execution_count": 40,
   "id": "0c4551d0-0c24-49d2-b007-dfdba442b1dc",
   "metadata": {},
   "outputs": [
    {
     "data": {
      "text/plain": [
       "0.6668162483569191"
      ]
     },
     "execution_count": 40,
     "metadata": {},
     "output_type": "execute_result"
    }
   ],
   "source": [
    "r2_score(y_test,y_pred)"
   ]
  },
  {
   "cell_type": "code",
   "execution_count": 41,
   "id": "272128d0-f26e-462b-b89c-f076699ff517",
   "metadata": {},
   "outputs": [
    {
     "data": {
      "text/plain": [
       "array([130.46053844, 157.62157447, 165.67850604, ..., 200.64936165,\n",
       "       160.09047889, 145.43247398])"
      ]
     },
     "execution_count": 41,
     "metadata": {},
     "output_type": "execute_result"
    }
   ],
   "source": [
    "y_pred"
   ]
  },
  {
   "cell_type": "code",
   "execution_count": 42,
   "id": "ffcdd6b1-8a9f-4bb5-8894-d7465356d490",
   "metadata": {},
   "outputs": [
    {
     "data": {
      "text/plain": [
       "48466    133\n",
       "74353    158\n",
       "51866    157\n",
       "7298     179\n",
       "19311    151\n",
       "        ... \n",
       "14262    141\n",
       "18890    160\n",
       "8417     187\n",
       "38159    162\n",
       "39215    148\n",
       "Name: total, Length: 9312, dtype: int64"
      ]
     },
     "execution_count": 42,
     "metadata": {},
     "output_type": "execute_result"
    }
   ],
   "source": [
    "y_test"
   ]
  },
  {
   "cell_type": "code",
   "execution_count": 44,
   "id": "b0347d37-5a01-4f2e-b06c-9e026b9072a0",
   "metadata": {},
   "outputs": [],
   "source": [
    "# Creating a pickle file for the classifier\n",
    "import pickle\n",
    "filename = 'model.pkl'\n",
    "pickle.dump(pipe, open(filename, 'wb'))"
   ]
  },
  {
   "cell_type": "code",
   "execution_count": 45,
   "id": "38b20e02-0f9e-41ba-a85a-81aaadb39038",
   "metadata": {},
   "outputs": [
    {
     "data": {
      "text/html": [
       "<div>\n",
       "<style scoped>\n",
       "    .dataframe tbody tr th:only-of-type {\n",
       "        vertical-align: middle;\n",
       "    }\n",
       "\n",
       "    .dataframe tbody tr th {\n",
       "        vertical-align: top;\n",
       "    }\n",
       "\n",
       "    .dataframe thead th {\n",
       "        text-align: right;\n",
       "    }\n",
       "</style>\n",
       "<table border=\"1\" class=\"dataframe\">\n",
       "  <thead>\n",
       "    <tr style=\"text-align: right;\">\n",
       "      <th></th>\n",
       "      <th>venue</th>\n",
       "      <th>bat_team</th>\n",
       "      <th>bowl_team</th>\n",
       "      <th>runs</th>\n",
       "      <th>wickets</th>\n",
       "      <th>overs</th>\n",
       "      <th>runs_last_5</th>\n",
       "      <th>wickets_last_5</th>\n",
       "    </tr>\n",
       "  </thead>\n",
       "  <tbody>\n",
       "    <tr>\n",
       "      <th>48466</th>\n",
       "      <td>Sheikh Zayed Stadium</td>\n",
       "      <td>Sunrisers Hyderabad</td>\n",
       "      <td>Rajasthan Royals</td>\n",
       "      <td>121</td>\n",
       "      <td>5</td>\n",
       "      <td>18.3</td>\n",
       "      <td>37</td>\n",
       "      <td>2</td>\n",
       "    </tr>\n",
       "    <tr>\n",
       "      <th>74353</th>\n",
       "      <td>M Chinnaswamy Stadium</td>\n",
       "      <td>Royal Challengers Bangalore</td>\n",
       "      <td>Kolkata Knight Riders</td>\n",
       "      <td>53</td>\n",
       "      <td>3</td>\n",
       "      <td>7.5</td>\n",
       "      <td>33</td>\n",
       "      <td>1</td>\n",
       "    </tr>\n",
       "    <tr>\n",
       "      <th>51866</th>\n",
       "      <td>Wankhede Stadium</td>\n",
       "      <td>Mumbai Indians</td>\n",
       "      <td>Chennai Super Kings</td>\n",
       "      <td>106</td>\n",
       "      <td>2</td>\n",
       "      <td>15.2</td>\n",
       "      <td>41</td>\n",
       "      <td>1</td>\n",
       "    </tr>\n",
       "    <tr>\n",
       "      <th>7298</th>\n",
       "      <td>St George's Park</td>\n",
       "      <td>Chennai Super Kings</td>\n",
       "      <td>Royal Challengers Bangalore</td>\n",
       "      <td>108</td>\n",
       "      <td>2</td>\n",
       "      <td>11.1</td>\n",
       "      <td>40</td>\n",
       "      <td>2</td>\n",
       "    </tr>\n",
       "    <tr>\n",
       "      <th>19311</th>\n",
       "      <td>Vidarbha Cricket Association Stadium, Jamtha</td>\n",
       "      <td>Sunrisers Hyderabad</td>\n",
       "      <td>Royal Challengers Bangalore</td>\n",
       "      <td>113</td>\n",
       "      <td>4</td>\n",
       "      <td>15.2</td>\n",
       "      <td>40</td>\n",
       "      <td>1</td>\n",
       "    </tr>\n",
       "    <tr>\n",
       "      <th>...</th>\n",
       "      <td>...</td>\n",
       "      <td>...</td>\n",
       "      <td>...</td>\n",
       "      <td>...</td>\n",
       "      <td>...</td>\n",
       "      <td>...</td>\n",
       "      <td>...</td>\n",
       "      <td>...</td>\n",
       "    </tr>\n",
       "    <tr>\n",
       "      <th>14262</th>\n",
       "      <td>Sardar Patel Stadium, Motera</td>\n",
       "      <td>Rajasthan Royals</td>\n",
       "      <td>Delhi Capitals</td>\n",
       "      <td>50</td>\n",
       "      <td>4</td>\n",
       "      <td>8.2</td>\n",
       "      <td>19</td>\n",
       "      <td>3</td>\n",
       "    </tr>\n",
       "    <tr>\n",
       "      <th>18890</th>\n",
       "      <td>M Chinnaswamy Stadium</td>\n",
       "      <td>Kolkata Knight Riders</td>\n",
       "      <td>Royal Challengers Bangalore</td>\n",
       "      <td>77</td>\n",
       "      <td>1</td>\n",
       "      <td>8.1</td>\n",
       "      <td>56</td>\n",
       "      <td>1</td>\n",
       "    </tr>\n",
       "    <tr>\n",
       "      <th>8417</th>\n",
       "      <td>St George's Park</td>\n",
       "      <td>Mumbai Indians</td>\n",
       "      <td>Kolkata Knight Riders</td>\n",
       "      <td>116</td>\n",
       "      <td>0</td>\n",
       "      <td>10.3</td>\n",
       "      <td>69</td>\n",
       "      <td>0</td>\n",
       "    </tr>\n",
       "    <tr>\n",
       "      <th>38159</th>\n",
       "      <td>Sawai Mansingh Stadium</td>\n",
       "      <td>Rajasthan Royals</td>\n",
       "      <td>Mumbai Indians</td>\n",
       "      <td>153</td>\n",
       "      <td>5</td>\n",
       "      <td>19.1</td>\n",
       "      <td>46</td>\n",
       "      <td>1</td>\n",
       "    </tr>\n",
       "    <tr>\n",
       "      <th>39215</th>\n",
       "      <td>MA Chidambaram Stadium, Chepauk</td>\n",
       "      <td>Mumbai Indians</td>\n",
       "      <td>Chennai Super Kings</td>\n",
       "      <td>75</td>\n",
       "      <td>5</td>\n",
       "      <td>10.3</td>\n",
       "      <td>40</td>\n",
       "      <td>3</td>\n",
       "    </tr>\n",
       "  </tbody>\n",
       "</table>\n",
       "<p>9312 rows × 8 columns</p>\n",
       "</div>"
      ],
      "text/plain": [
       "                                              venue  \\\n",
       "48466                          Sheikh Zayed Stadium   \n",
       "74353                         M Chinnaswamy Stadium   \n",
       "51866                              Wankhede Stadium   \n",
       "7298                               St George's Park   \n",
       "19311  Vidarbha Cricket Association Stadium, Jamtha   \n",
       "...                                             ...   \n",
       "14262                  Sardar Patel Stadium, Motera   \n",
       "18890                         M Chinnaswamy Stadium   \n",
       "8417                               St George's Park   \n",
       "38159                        Sawai Mansingh Stadium   \n",
       "39215               MA Chidambaram Stadium, Chepauk   \n",
       "\n",
       "                          bat_team                    bowl_team  runs  \\\n",
       "48466          Sunrisers Hyderabad             Rajasthan Royals   121   \n",
       "74353  Royal Challengers Bangalore        Kolkata Knight Riders    53   \n",
       "51866               Mumbai Indians          Chennai Super Kings   106   \n",
       "7298           Chennai Super Kings  Royal Challengers Bangalore   108   \n",
       "19311          Sunrisers Hyderabad  Royal Challengers Bangalore   113   \n",
       "...                            ...                          ...   ...   \n",
       "14262             Rajasthan Royals               Delhi Capitals    50   \n",
       "18890        Kolkata Knight Riders  Royal Challengers Bangalore    77   \n",
       "8417                Mumbai Indians        Kolkata Knight Riders   116   \n",
       "38159             Rajasthan Royals               Mumbai Indians   153   \n",
       "39215               Mumbai Indians          Chennai Super Kings    75   \n",
       "\n",
       "       wickets  overs  runs_last_5  wickets_last_5  \n",
       "48466        5   18.3           37               2  \n",
       "74353        3    7.5           33               1  \n",
       "51866        2   15.2           41               1  \n",
       "7298         2   11.1           40               2  \n",
       "19311        4   15.2           40               1  \n",
       "...        ...    ...          ...             ...  \n",
       "14262        4    8.2           19               3  \n",
       "18890        1    8.1           56               1  \n",
       "8417         0   10.3           69               0  \n",
       "38159        5   19.1           46               1  \n",
       "39215        5   10.3           40               3  \n",
       "\n",
       "[9312 rows x 8 columns]"
      ]
     },
     "execution_count": 45,
     "metadata": {},
     "output_type": "execute_result"
    }
   ],
   "source": [
    "X_test"
   ]
  },
  {
   "cell_type": "code",
   "execution_count": null,
   "id": "209d4a52-6abe-4a52-86b8-ffbefba15f8c",
   "metadata": {},
   "outputs": [],
   "source": []
  },
  {
   "cell_type": "code",
   "execution_count": null,
   "id": "9b1fd665-cb87-4b37-8db9-075ccf23429f",
   "metadata": {},
   "outputs": [],
   "source": []
  },
  {
   "cell_type": "code",
   "execution_count": null,
   "id": "1fb279f0-8daa-4caf-8466-34c265e118f8",
   "metadata": {},
   "outputs": [],
   "source": []
  },
  {
   "cell_type": "code",
   "execution_count": null,
   "id": "1083a36f-d44c-4d4f-84f5-8988b4699067",
   "metadata": {},
   "outputs": [],
   "source": []
  },
  {
   "cell_type": "code",
   "execution_count": null,
   "id": "175302b5-4901-43d4-a94e-e7dbdf58c37f",
   "metadata": {},
   "outputs": [],
   "source": [
    "# ohe = OneHotEncoder(drop='first',sparse_output=False,dtype=np.int32)"
   ]
  },
  {
   "cell_type": "code",
   "execution_count": null,
   "id": "9fa724aa-ef58-4794-a3bb-8b6ef75f5a40",
   "metadata": {},
   "outputs": [],
   "source": [
    "# X_train_new = ohe.fit_transform(X_train[['venue','bat_team','bowl_team']])"
   ]
  },
  {
   "cell_type": "code",
   "execution_count": null,
   "id": "9bd226a3-81ef-4748-8afd-17284ce28301",
   "metadata": {},
   "outputs": [],
   "source": [
    "# X_test_new = ohe.transform(X_test[['venue','bat_team','bowl_team']])"
   ]
  },
  {
   "cell_type": "code",
   "execution_count": null,
   "id": "a579c4cc-7c64-4e46-86c5-691680cf5e13",
   "metadata": {},
   "outputs": [],
   "source": [
    "# X_train_new.shape"
   ]
  },
  {
   "cell_type": "code",
   "execution_count": null,
   "id": "d3b219f6-840d-414a-ba23-4fd3f1cc014f",
   "metadata": {},
   "outputs": [],
   "source": [
    "# X_train_new = np.hstack((X_train[['runs','wickets','overs','runs_last_5','wickets_last_5']].values,X_train_new))"
   ]
  },
  {
   "cell_type": "code",
   "execution_count": null,
   "id": "07f611f7-c067-4dd1-b84d-3a338ec43c66",
   "metadata": {},
   "outputs": [],
   "source": [
    "# X_test_new = np.hstack((X_test[['runs','wickets','overs','runs_last_5','wickets_last_5']].values,X_test_new))"
   ]
  },
  {
   "cell_type": "code",
   "execution_count": null,
   "id": "a3d3e9c0-6bf7-4d7d-b1a9-2a5ec1e7fc7c",
   "metadata": {},
   "outputs": [],
   "source": []
  },
  {
   "cell_type": "code",
   "execution_count": null,
   "id": "715bc91d-7505-4e86-bd67-bc687bc1277e",
   "metadata": {},
   "outputs": [],
   "source": []
  },
  {
   "cell_type": "code",
   "execution_count": null,
   "id": "0bdbe75e-6237-4dc5-964c-d5e4118dfb2a",
   "metadata": {},
   "outputs": [],
   "source": []
  },
  {
   "cell_type": "code",
   "execution_count": null,
   "id": "cf7ad063-41dc-4471-af45-c6e4f4d34abd",
   "metadata": {},
   "outputs": [],
   "source": [
    "# --- Model Building ---\n",
    "# Linear Regression Model\n",
    "# from sklearn.linear_model import LinearRegression\n",
    "# regressor = LinearRegression()\n",
    "# regressor.fit(X_train_new,y_train)"
   ]
  },
  {
   "cell_type": "code",
   "execution_count": null,
   "id": "85b03bd0-22bd-459c-99a2-8e79e77db121",
   "metadata": {},
   "outputs": [],
   "source": [
    "# X_test"
   ]
  },
  {
   "cell_type": "code",
   "execution_count": null,
   "id": "e955c755-55be-4226-ba97-273793693363",
   "metadata": {},
   "outputs": [],
   "source": [
    "# pred = regressor.predict(X_test_new)"
   ]
  },
  {
   "cell_type": "code",
   "execution_count": null,
   "id": "f2589cd6-0be1-48a0-862c-9cbc50c6b554",
   "metadata": {},
   "outputs": [],
   "source": [
    "# pred"
   ]
  },
  {
   "cell_type": "code",
   "execution_count": null,
   "id": "221bed0e-0c71-462a-8147-213f33138bba",
   "metadata": {},
   "outputs": [],
   "source": [
    "# list(y_test)"
   ]
  },
  {
   "cell_type": "code",
   "execution_count": null,
   "id": "29154b6c-b851-4f67-ad75-2e10842390cb",
   "metadata": {},
   "outputs": [],
   "source": [
    "# from sklearn.metrics import mean_squared_error\n",
    "# # housing_predictions = model.predict(housing_num_tr)\n",
    "# mse = mean_squared_error(y_test, pred)\n",
    "# rmse = np.sqrt(mse)"
   ]
  },
  {
   "cell_type": "code",
   "execution_count": null,
   "id": "848a0ac7-4078-430c-942c-4feb10c208c5",
   "metadata": {},
   "outputs": [],
   "source": [
    "# rmse"
   ]
  },
  {
   "cell_type": "code",
   "execution_count": null,
   "id": "078672c6-c3c5-4b74-8802-5bb912d75378",
   "metadata": {},
   "outputs": [],
   "source": [
    "# # Creating a pickle file for the classifier\n",
    "# import pickle\n",
    "# filename = 'model.pkl'\n",
    "# pickle.dump(regressor, open(filename, 'wb'))"
   ]
  }
 ],
 "metadata": {
  "kernelspec": {
   "display_name": "Python 3 (ipykernel)",
   "language": "python",
   "name": "python3"
  },
  "language_info": {
   "codemirror_mode": {
    "name": "ipython",
    "version": 3
   },
   "file_extension": ".py",
   "mimetype": "text/x-python",
   "name": "python",
   "nbconvert_exporter": "python",
   "pygments_lexer": "ipython3",
   "version": "3.11.5"
  }
 },
 "nbformat": 4,
 "nbformat_minor": 5
}
